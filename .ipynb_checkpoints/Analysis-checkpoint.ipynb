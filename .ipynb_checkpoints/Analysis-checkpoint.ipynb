{
 "cells": [
  {
   "cell_type": "code",
   "execution_count": 1,
   "metadata": {},
   "outputs": [],
   "source": [
    "import numpy as np\n",
    "import glob\n",
    "import pandas as pd\n",
    "import matplotlib.pyplot as plt\n",
    "import re\n",
    "from raise_utils.interpret import DODGEInterpreter\n",
    "plt.style.use('ggplot')"
   ]
  },
  {
   "cell_type": "code",
   "execution_count": 2,
   "metadata": {},
   "outputs": [],
   "source": [
    "with open('vanilla-runs.txt', 'r') as f:\n",
    "    lines = f.readlines()"
   ]
  },
  {
   "cell_type": "code",
   "execution_count": 3,
   "metadata": {},
   "outputs": [],
   "source": [
    "lines = [eval(x.split(':')[1]) for x in lines if x.startswith('vanilla')]"
   ]
  },
  {
   "cell_type": "code",
   "execution_count": 4,
   "metadata": {},
   "outputs": [],
   "source": [
    "lines = np.array(lines)"
   ]
  },
  {
   "cell_type": "code",
   "execution_count": 5,
   "metadata": {},
   "outputs": [
    {
     "data": {
      "text/plain": [
       "(24, 10)"
      ]
     },
     "execution_count": 5,
     "metadata": {},
     "output_type": "execute_result"
    }
   ],
   "source": [
    "lines.shape"
   ]
  },
  {
   "cell_type": "code",
   "execution_count": 6,
   "metadata": {},
   "outputs": [],
   "source": [
    "lines = lines.reshape(240)"
   ]
  },
  {
   "cell_type": "code",
   "execution_count": 7,
   "metadata": {},
   "outputs": [],
   "source": [
    "df = pd.DataFrame(data=lines.reshape(-1,1), columns=['a'])"
   ]
  },
  {
   "cell_type": "code",
   "execution_count": 8,
   "metadata": {},
   "outputs": [
    {
     "data": {
      "text/html": [
       "<div>\n",
       "<style scoped>\n",
       "    .dataframe tbody tr th:only-of-type {\n",
       "        vertical-align: middle;\n",
       "    }\n",
       "\n",
       "    .dataframe tbody tr th {\n",
       "        vertical-align: top;\n",
       "    }\n",
       "\n",
       "    .dataframe thead th {\n",
       "        text-align: right;\n",
       "    }\n",
       "</style>\n",
       "<table border=\"1\" class=\"dataframe\">\n",
       "  <thead>\n",
       "    <tr style=\"text-align: right;\">\n",
       "      <th></th>\n",
       "      <th>a</th>\n",
       "    </tr>\n",
       "  </thead>\n",
       "  <tbody>\n",
       "    <tr>\n",
       "      <th>0</th>\n",
       "      <td>0.0</td>\n",
       "    </tr>\n",
       "    <tr>\n",
       "      <th>1</th>\n",
       "      <td>0.0</td>\n",
       "    </tr>\n",
       "    <tr>\n",
       "      <th>2</th>\n",
       "      <td>0.0</td>\n",
       "    </tr>\n",
       "    <tr>\n",
       "      <th>3</th>\n",
       "      <td>0.0</td>\n",
       "    </tr>\n",
       "    <tr>\n",
       "      <th>4</th>\n",
       "      <td>0.0</td>\n",
       "    </tr>\n",
       "    <tr>\n",
       "      <th>...</th>\n",
       "      <td>...</td>\n",
       "    </tr>\n",
       "    <tr>\n",
       "      <th>235</th>\n",
       "      <td>0.0</td>\n",
       "    </tr>\n",
       "    <tr>\n",
       "      <th>236</th>\n",
       "      <td>0.0</td>\n",
       "    </tr>\n",
       "    <tr>\n",
       "      <th>237</th>\n",
       "      <td>0.0</td>\n",
       "    </tr>\n",
       "    <tr>\n",
       "      <th>238</th>\n",
       "      <td>0.0</td>\n",
       "    </tr>\n",
       "    <tr>\n",
       "      <th>239</th>\n",
       "      <td>0.0</td>\n",
       "    </tr>\n",
       "  </tbody>\n",
       "</table>\n",
       "<p>240 rows × 1 columns</p>\n",
       "</div>"
      ],
      "text/plain": [
       "       a\n",
       "0    0.0\n",
       "1    0.0\n",
       "2    0.0\n",
       "3    0.0\n",
       "4    0.0\n",
       "..   ...\n",
       "235  0.0\n",
       "236  0.0\n",
       "237  0.0\n",
       "238  0.0\n",
       "239  0.0\n",
       "\n",
       "[240 rows x 1 columns]"
      ]
     },
     "execution_count": 8,
     "metadata": {},
     "output_type": "execute_result"
    }
   ],
   "source": [
    "df"
   ]
  },
  {
   "cell_type": "code",
   "execution_count": 9,
   "metadata": {},
   "outputs": [],
   "source": [
    "with open('runs-oversampling.txt', 'r') as f:\n",
    "    lines = f.readlines()"
   ]
  },
  {
   "cell_type": "code",
   "execution_count": 10,
   "metadata": {},
   "outputs": [],
   "source": [
    "lines = [eval(x.split(':')[1]) for x in lines if x.startswith('vanilla')]"
   ]
  },
  {
   "cell_type": "code",
   "execution_count": 11,
   "metadata": {},
   "outputs": [],
   "source": [
    "lines = np.array(lines).reshape(240)"
   ]
  },
  {
   "cell_type": "code",
   "execution_count": 12,
   "metadata": {},
   "outputs": [],
   "source": [
    "df['a+b'] = lines"
   ]
  },
  {
   "cell_type": "code",
   "execution_count": 13,
   "metadata": {},
   "outputs": [
    {
     "data": {
      "text/html": [
       "<div>\n",
       "<style scoped>\n",
       "    .dataframe tbody tr th:only-of-type {\n",
       "        vertical-align: middle;\n",
       "    }\n",
       "\n",
       "    .dataframe tbody tr th {\n",
       "        vertical-align: top;\n",
       "    }\n",
       "\n",
       "    .dataframe thead th {\n",
       "        text-align: right;\n",
       "    }\n",
       "</style>\n",
       "<table border=\"1\" class=\"dataframe\">\n",
       "  <thead>\n",
       "    <tr style=\"text-align: right;\">\n",
       "      <th></th>\n",
       "      <th>a</th>\n",
       "      <th>a+b</th>\n",
       "    </tr>\n",
       "  </thead>\n",
       "  <tbody>\n",
       "    <tr>\n",
       "      <th>0</th>\n",
       "      <td>0.0</td>\n",
       "      <td>0.000000</td>\n",
       "    </tr>\n",
       "    <tr>\n",
       "      <th>1</th>\n",
       "      <td>0.0</td>\n",
       "      <td>0.000000</td>\n",
       "    </tr>\n",
       "    <tr>\n",
       "      <th>2</th>\n",
       "      <td>0.0</td>\n",
       "      <td>0.000000</td>\n",
       "    </tr>\n",
       "    <tr>\n",
       "      <th>3</th>\n",
       "      <td>0.0</td>\n",
       "      <td>0.000000</td>\n",
       "    </tr>\n",
       "    <tr>\n",
       "      <th>4</th>\n",
       "      <td>0.0</td>\n",
       "      <td>0.000000</td>\n",
       "    </tr>\n",
       "    <tr>\n",
       "      <th>...</th>\n",
       "      <td>...</td>\n",
       "      <td>...</td>\n",
       "    </tr>\n",
       "    <tr>\n",
       "      <th>235</th>\n",
       "      <td>0.0</td>\n",
       "      <td>0.000000</td>\n",
       "    </tr>\n",
       "    <tr>\n",
       "      <th>236</th>\n",
       "      <td>0.0</td>\n",
       "      <td>0.017660</td>\n",
       "    </tr>\n",
       "    <tr>\n",
       "      <th>237</th>\n",
       "      <td>0.0</td>\n",
       "      <td>0.000000</td>\n",
       "    </tr>\n",
       "    <tr>\n",
       "      <th>238</th>\n",
       "      <td>0.0</td>\n",
       "      <td>0.000000</td>\n",
       "    </tr>\n",
       "    <tr>\n",
       "      <th>239</th>\n",
       "      <td>0.0</td>\n",
       "      <td>0.011062</td>\n",
       "    </tr>\n",
       "  </tbody>\n",
       "</table>\n",
       "<p>240 rows × 2 columns</p>\n",
       "</div>"
      ],
      "text/plain": [
       "       a       a+b\n",
       "0    0.0  0.000000\n",
       "1    0.0  0.000000\n",
       "2    0.0  0.000000\n",
       "3    0.0  0.000000\n",
       "4    0.0  0.000000\n",
       "..   ...       ...\n",
       "235  0.0  0.000000\n",
       "236  0.0  0.017660\n",
       "237  0.0  0.000000\n",
       "238  0.0  0.000000\n",
       "239  0.0  0.011062\n",
       "\n",
       "[240 rows x 2 columns]"
      ]
     },
     "execution_count": 13,
     "metadata": {},
     "output_type": "execute_result"
    }
   ],
   "source": [
    "df"
   ]
  },
  {
   "cell_type": "code",
   "execution_count": 14,
   "metadata": {},
   "outputs": [
    {
     "name": "stdout",
     "output_type": "stream",
     "text": [
      "./old-logs/ghost-log/synapse-tuning.txt\n",
      "./old-logs/ghost-log/poi-tuning.txt\n",
      "./old-logs/ghost-log/log4j-tuning.txt\n",
      "./old-logs/ghost-log/velocity-tuning.txt\n",
      "./old-logs/ghost-log/xalan-tuning.txt\n",
      "./old-logs/ghost-log/camel-tuning.txt\n",
      "./old-logs/ghost-log/jedit-tuning.txt\n",
      "./old-logs/ghost-log/ivy-tuning.txt\n",
      "./old-logs/ghost-log/lucene-tuning.txt\n",
      "./old-logs/ghost-log/xerces-tuning.txt\n",
      "./old-logs/ghost-log-wang/lucene2-tuning.txt\n",
      "./old-logs/ghost-log-wang/camel2-tuning.txt\n",
      "./old-logs/ghost-log-wang/synapse-tuning.txt\n",
      "./old-logs/ghost-log-wang/poi-tuning.txt\n",
      "./old-logs/ghost-log-wang/log4j-tuning.txt\n",
      "./old-logs/ghost-log-wang/poi2-tuning.txt\n",
      "./old-logs/ghost-log-wang/synapse2-tuning.txt\n",
      "./old-logs/ghost-log-wang/xalan-tuning.txt\n",
      "./old-logs/ghost-log-wang/camel-tuning.txt\n",
      "./old-logs/ghost-log-wang/jedit-tuning.txt\n",
      "./old-logs/ghost-log-wang/jedit2-tuning.txt\n",
      "./old-logs/ghost-log-wang/ivy-tuning.txt\n",
      "./old-logs/ghost-log-wang/lucene-tuning.txt\n",
      "./old-logs/ghost-log-wang/xerces-tuning.txt\n"
     ]
    }
   ],
   "source": [
    "# Mine tuning results\n",
    "res = []\n",
    "for file in glob.glob('./old-logs/ghost-log*/*-tuning.txt'):\n",
    "    print(file)\n",
    "    interp = DODGEInterpreter(files=[file])\n",
    "    results = interp.interpret()\n",
    "    res.extend(results[file.split('/')[-1]][0])"
   ]
  },
  {
   "cell_type": "code",
   "execution_count": 15,
   "metadata": {},
   "outputs": [
    {
     "data": {
      "text/plain": [
       "240"
      ]
     },
     "execution_count": 15,
     "metadata": {},
     "output_type": "execute_result"
    }
   ],
   "source": [
    "len(res)"
   ]
  },
  {
   "cell_type": "code",
   "execution_count": 16,
   "metadata": {},
   "outputs": [],
   "source": [
    "with open('runs-wfo.txt', 'r') as f:\n",
    "    lines = f.readlines()"
   ]
  },
  {
   "cell_type": "code",
   "execution_count": 17,
   "metadata": {},
   "outputs": [],
   "source": [
    "lines = [eval(x.split(':')[1]) for x in lines if x.startswith('wfo_only')]"
   ]
  },
  {
   "cell_type": "code",
   "execution_count": 18,
   "metadata": {},
   "outputs": [],
   "source": [
    "lines = np.array(lines).reshape(240)"
   ]
  },
  {
   "cell_type": "code",
   "execution_count": 19,
   "metadata": {},
   "outputs": [],
   "source": [
    "df['a+d'] = lines"
   ]
  },
  {
   "cell_type": "code",
   "execution_count": 20,
   "metadata": {},
   "outputs": [
    {
     "data": {
      "text/html": [
       "<div>\n",
       "<style scoped>\n",
       "    .dataframe tbody tr th:only-of-type {\n",
       "        vertical-align: middle;\n",
       "    }\n",
       "\n",
       "    .dataframe tbody tr th {\n",
       "        vertical-align: top;\n",
       "    }\n",
       "\n",
       "    .dataframe thead th {\n",
       "        text-align: right;\n",
       "    }\n",
       "</style>\n",
       "<table border=\"1\" class=\"dataframe\">\n",
       "  <thead>\n",
       "    <tr style=\"text-align: right;\">\n",
       "      <th></th>\n",
       "      <th>a</th>\n",
       "      <th>a+b</th>\n",
       "      <th>a+d</th>\n",
       "    </tr>\n",
       "  </thead>\n",
       "  <tbody>\n",
       "    <tr>\n",
       "      <th>0</th>\n",
       "      <td>0.0</td>\n",
       "      <td>0.000000</td>\n",
       "      <td>0.000000</td>\n",
       "    </tr>\n",
       "    <tr>\n",
       "      <th>1</th>\n",
       "      <td>0.0</td>\n",
       "      <td>0.000000</td>\n",
       "      <td>0.000000</td>\n",
       "    </tr>\n",
       "    <tr>\n",
       "      <th>2</th>\n",
       "      <td>0.0</td>\n",
       "      <td>0.000000</td>\n",
       "      <td>0.000000</td>\n",
       "    </tr>\n",
       "    <tr>\n",
       "      <th>3</th>\n",
       "      <td>0.0</td>\n",
       "      <td>0.000000</td>\n",
       "      <td>0.000000</td>\n",
       "    </tr>\n",
       "    <tr>\n",
       "      <th>4</th>\n",
       "      <td>0.0</td>\n",
       "      <td>0.000000</td>\n",
       "      <td>0.000000</td>\n",
       "    </tr>\n",
       "    <tr>\n",
       "      <th>...</th>\n",
       "      <td>...</td>\n",
       "      <td>...</td>\n",
       "      <td>...</td>\n",
       "    </tr>\n",
       "    <tr>\n",
       "      <th>235</th>\n",
       "      <td>0.0</td>\n",
       "      <td>0.000000</td>\n",
       "      <td>0.272815</td>\n",
       "    </tr>\n",
       "    <tr>\n",
       "      <th>236</th>\n",
       "      <td>0.0</td>\n",
       "      <td>0.017660</td>\n",
       "      <td>0.008859</td>\n",
       "    </tr>\n",
       "    <tr>\n",
       "      <th>237</th>\n",
       "      <td>0.0</td>\n",
       "      <td>0.000000</td>\n",
       "      <td>0.182002</td>\n",
       "    </tr>\n",
       "    <tr>\n",
       "      <th>238</th>\n",
       "      <td>0.0</td>\n",
       "      <td>0.000000</td>\n",
       "      <td>0.032859</td>\n",
       "    </tr>\n",
       "    <tr>\n",
       "      <th>239</th>\n",
       "      <td>0.0</td>\n",
       "      <td>0.011062</td>\n",
       "      <td>0.282443</td>\n",
       "    </tr>\n",
       "  </tbody>\n",
       "</table>\n",
       "<p>240 rows × 3 columns</p>\n",
       "</div>"
      ],
      "text/plain": [
       "       a       a+b       a+d\n",
       "0    0.0  0.000000  0.000000\n",
       "1    0.0  0.000000  0.000000\n",
       "2    0.0  0.000000  0.000000\n",
       "3    0.0  0.000000  0.000000\n",
       "4    0.0  0.000000  0.000000\n",
       "..   ...       ...       ...\n",
       "235  0.0  0.000000  0.272815\n",
       "236  0.0  0.017660  0.008859\n",
       "237  0.0  0.000000  0.182002\n",
       "238  0.0  0.000000  0.032859\n",
       "239  0.0  0.011062  0.282443\n",
       "\n",
       "[240 rows x 3 columns]"
      ]
     },
     "execution_count": 20,
     "metadata": {},
     "output_type": "execute_result"
    }
   ],
   "source": [
    "df"
   ]
  },
  {
   "cell_type": "code",
   "execution_count": 21,
   "metadata": {},
   "outputs": [],
   "source": [
    "df['a+b+e'] = res"
   ]
  },
  {
   "cell_type": "code",
   "execution_count": 22,
   "metadata": {},
   "outputs": [
    {
     "data": {
      "text/html": [
       "<div>\n",
       "<style scoped>\n",
       "    .dataframe tbody tr th:only-of-type {\n",
       "        vertical-align: middle;\n",
       "    }\n",
       "\n",
       "    .dataframe tbody tr th {\n",
       "        vertical-align: top;\n",
       "    }\n",
       "\n",
       "    .dataframe thead th {\n",
       "        text-align: right;\n",
       "    }\n",
       "</style>\n",
       "<table border=\"1\" class=\"dataframe\">\n",
       "  <thead>\n",
       "    <tr style=\"text-align: right;\">\n",
       "      <th></th>\n",
       "      <th>a</th>\n",
       "      <th>a+b</th>\n",
       "      <th>a+d</th>\n",
       "      <th>a+b+e</th>\n",
       "    </tr>\n",
       "  </thead>\n",
       "  <tbody>\n",
       "    <tr>\n",
       "      <th>0</th>\n",
       "      <td>0.0</td>\n",
       "      <td>0.000000</td>\n",
       "      <td>0.000000</td>\n",
       "      <td>0.0</td>\n",
       "    </tr>\n",
       "    <tr>\n",
       "      <th>1</th>\n",
       "      <td>0.0</td>\n",
       "      <td>0.000000</td>\n",
       "      <td>0.000000</td>\n",
       "      <td>0.0</td>\n",
       "    </tr>\n",
       "    <tr>\n",
       "      <th>2</th>\n",
       "      <td>0.0</td>\n",
       "      <td>0.000000</td>\n",
       "      <td>0.000000</td>\n",
       "      <td>0.0</td>\n",
       "    </tr>\n",
       "    <tr>\n",
       "      <th>3</th>\n",
       "      <td>0.0</td>\n",
       "      <td>0.000000</td>\n",
       "      <td>0.000000</td>\n",
       "      <td>0.0</td>\n",
       "    </tr>\n",
       "    <tr>\n",
       "      <th>4</th>\n",
       "      <td>0.0</td>\n",
       "      <td>0.000000</td>\n",
       "      <td>0.000000</td>\n",
       "      <td>0.0</td>\n",
       "    </tr>\n",
       "    <tr>\n",
       "      <th>...</th>\n",
       "      <td>...</td>\n",
       "      <td>...</td>\n",
       "      <td>...</td>\n",
       "      <td>...</td>\n",
       "    </tr>\n",
       "    <tr>\n",
       "      <th>235</th>\n",
       "      <td>0.0</td>\n",
       "      <td>0.000000</td>\n",
       "      <td>0.272815</td>\n",
       "      <td>0.0</td>\n",
       "    </tr>\n",
       "    <tr>\n",
       "      <th>236</th>\n",
       "      <td>0.0</td>\n",
       "      <td>0.017660</td>\n",
       "      <td>0.008859</td>\n",
       "      <td>0.0</td>\n",
       "    </tr>\n",
       "    <tr>\n",
       "      <th>237</th>\n",
       "      <td>0.0</td>\n",
       "      <td>0.000000</td>\n",
       "      <td>0.182002</td>\n",
       "      <td>0.0</td>\n",
       "    </tr>\n",
       "    <tr>\n",
       "      <th>238</th>\n",
       "      <td>0.0</td>\n",
       "      <td>0.000000</td>\n",
       "      <td>0.032859</td>\n",
       "      <td>0.0</td>\n",
       "    </tr>\n",
       "    <tr>\n",
       "      <th>239</th>\n",
       "      <td>0.0</td>\n",
       "      <td>0.011062</td>\n",
       "      <td>0.282443</td>\n",
       "      <td>0.0</td>\n",
       "    </tr>\n",
       "  </tbody>\n",
       "</table>\n",
       "<p>240 rows × 4 columns</p>\n",
       "</div>"
      ],
      "text/plain": [
       "       a       a+b       a+d  a+b+e\n",
       "0    0.0  0.000000  0.000000    0.0\n",
       "1    0.0  0.000000  0.000000    0.0\n",
       "2    0.0  0.000000  0.000000    0.0\n",
       "3    0.0  0.000000  0.000000    0.0\n",
       "4    0.0  0.000000  0.000000    0.0\n",
       "..   ...       ...       ...    ...\n",
       "235  0.0  0.000000  0.272815    0.0\n",
       "236  0.0  0.017660  0.008859    0.0\n",
       "237  0.0  0.000000  0.182002    0.0\n",
       "238  0.0  0.000000  0.032859    0.0\n",
       "239  0.0  0.011062  0.282443    0.0\n",
       "\n",
       "[240 rows x 4 columns]"
      ]
     },
     "execution_count": 22,
     "metadata": {},
     "output_type": "execute_result"
    }
   ],
   "source": [
    "df"
   ]
  },
  {
   "cell_type": "code",
   "execution_count": 23,
   "metadata": {},
   "outputs": [],
   "source": [
    "with open('runs-tuning.txt', 'r') as f:\n",
    "    lines = f.readlines()"
   ]
  },
  {
   "cell_type": "code",
   "execution_count": 24,
   "metadata": {},
   "outputs": [],
   "source": [
    "lines = [eval(x[:-1].split(':')[1]) for x in lines if x.startswith('tuning') and x[:-1].split(':')[1] != ' ']"
   ]
  },
  {
   "cell_type": "code",
   "execution_count": 25,
   "metadata": {},
   "outputs": [
    {
     "data": {
      "text/plain": [
       "15"
      ]
     },
     "execution_count": 25,
     "metadata": {},
     "output_type": "execute_result"
    }
   ],
   "source": [
    "len(lines)"
   ]
  },
  {
   "cell_type": "code",
   "execution_count": 26,
   "metadata": {},
   "outputs": [],
   "source": [
    "with open('runs-tuning-2.txt', 'r') as f:\n",
    "    lines_2 = f.readlines()"
   ]
  },
  {
   "cell_type": "code",
   "execution_count": 27,
   "metadata": {},
   "outputs": [],
   "source": [
    "lines_2 = [eval(re.sub('\\s+', ',', x[:-1].split(':')[1])[1:]) for x in lines_2 if x.startswith('tuning') and x[:-1].split(':')[1] != ' ']"
   ]
  },
  {
   "cell_type": "code",
   "execution_count": 28,
   "metadata": {},
   "outputs": [],
   "source": [
    "lines.extend(lines_2)"
   ]
  },
  {
   "cell_type": "code",
   "execution_count": 29,
   "metadata": {},
   "outputs": [
    {
     "data": {
      "text/plain": [
       "24"
      ]
     },
     "execution_count": 29,
     "metadata": {},
     "output_type": "execute_result"
    }
   ],
   "source": [
    "len(lines)"
   ]
  },
  {
   "cell_type": "code",
   "execution_count": 30,
   "metadata": {},
   "outputs": [],
   "source": [
    "lines = np.array(lines).reshape(240)"
   ]
  },
  {
   "cell_type": "code",
   "execution_count": 31,
   "metadata": {},
   "outputs": [],
   "source": [
    "df['a+e'] = lines"
   ]
  },
  {
   "cell_type": "code",
   "execution_count": 32,
   "metadata": {},
   "outputs": [
    {
     "data": {
      "text/html": [
       "<div>\n",
       "<style scoped>\n",
       "    .dataframe tbody tr th:only-of-type {\n",
       "        vertical-align: middle;\n",
       "    }\n",
       "\n",
       "    .dataframe tbody tr th {\n",
       "        vertical-align: top;\n",
       "    }\n",
       "\n",
       "    .dataframe thead th {\n",
       "        text-align: right;\n",
       "    }\n",
       "</style>\n",
       "<table border=\"1\" class=\"dataframe\">\n",
       "  <thead>\n",
       "    <tr style=\"text-align: right;\">\n",
       "      <th></th>\n",
       "      <th>a</th>\n",
       "      <th>a+b</th>\n",
       "      <th>a+d</th>\n",
       "      <th>a+b+e</th>\n",
       "      <th>a+e</th>\n",
       "    </tr>\n",
       "  </thead>\n",
       "  <tbody>\n",
       "    <tr>\n",
       "      <th>0</th>\n",
       "      <td>0.0</td>\n",
       "      <td>0.000000</td>\n",
       "      <td>0.000000</td>\n",
       "      <td>0.0</td>\n",
       "      <td>0.0</td>\n",
       "    </tr>\n",
       "    <tr>\n",
       "      <th>1</th>\n",
       "      <td>0.0</td>\n",
       "      <td>0.000000</td>\n",
       "      <td>0.000000</td>\n",
       "      <td>0.0</td>\n",
       "      <td>0.0</td>\n",
       "    </tr>\n",
       "    <tr>\n",
       "      <th>2</th>\n",
       "      <td>0.0</td>\n",
       "      <td>0.000000</td>\n",
       "      <td>0.000000</td>\n",
       "      <td>0.0</td>\n",
       "      <td>0.0</td>\n",
       "    </tr>\n",
       "    <tr>\n",
       "      <th>3</th>\n",
       "      <td>0.0</td>\n",
       "      <td>0.000000</td>\n",
       "      <td>0.000000</td>\n",
       "      <td>0.0</td>\n",
       "      <td>0.0</td>\n",
       "    </tr>\n",
       "    <tr>\n",
       "      <th>4</th>\n",
       "      <td>0.0</td>\n",
       "      <td>0.000000</td>\n",
       "      <td>0.000000</td>\n",
       "      <td>0.0</td>\n",
       "      <td>0.0</td>\n",
       "    </tr>\n",
       "    <tr>\n",
       "      <th>...</th>\n",
       "      <td>...</td>\n",
       "      <td>...</td>\n",
       "      <td>...</td>\n",
       "      <td>...</td>\n",
       "      <td>...</td>\n",
       "    </tr>\n",
       "    <tr>\n",
       "      <th>235</th>\n",
       "      <td>0.0</td>\n",
       "      <td>0.000000</td>\n",
       "      <td>0.272815</td>\n",
       "      <td>0.0</td>\n",
       "      <td>0.0</td>\n",
       "    </tr>\n",
       "    <tr>\n",
       "      <th>236</th>\n",
       "      <td>0.0</td>\n",
       "      <td>0.017660</td>\n",
       "      <td>0.008859</td>\n",
       "      <td>0.0</td>\n",
       "      <td>0.0</td>\n",
       "    </tr>\n",
       "    <tr>\n",
       "      <th>237</th>\n",
       "      <td>0.0</td>\n",
       "      <td>0.000000</td>\n",
       "      <td>0.182002</td>\n",
       "      <td>0.0</td>\n",
       "      <td>0.0</td>\n",
       "    </tr>\n",
       "    <tr>\n",
       "      <th>238</th>\n",
       "      <td>0.0</td>\n",
       "      <td>0.000000</td>\n",
       "      <td>0.032859</td>\n",
       "      <td>0.0</td>\n",
       "      <td>0.0</td>\n",
       "    </tr>\n",
       "    <tr>\n",
       "      <th>239</th>\n",
       "      <td>0.0</td>\n",
       "      <td>0.011062</td>\n",
       "      <td>0.282443</td>\n",
       "      <td>0.0</td>\n",
       "      <td>0.0</td>\n",
       "    </tr>\n",
       "  </tbody>\n",
       "</table>\n",
       "<p>240 rows × 5 columns</p>\n",
       "</div>"
      ],
      "text/plain": [
       "       a       a+b       a+d  a+b+e  a+e\n",
       "0    0.0  0.000000  0.000000    0.0  0.0\n",
       "1    0.0  0.000000  0.000000    0.0  0.0\n",
       "2    0.0  0.000000  0.000000    0.0  0.0\n",
       "3    0.0  0.000000  0.000000    0.0  0.0\n",
       "4    0.0  0.000000  0.000000    0.0  0.0\n",
       "..   ...       ...       ...    ...  ...\n",
       "235  0.0  0.000000  0.272815    0.0  0.0\n",
       "236  0.0  0.017660  0.008859    0.0  0.0\n",
       "237  0.0  0.000000  0.182002    0.0  0.0\n",
       "238  0.0  0.000000  0.032859    0.0  0.0\n",
       "239  0.0  0.011062  0.282443    0.0  0.0\n",
       "\n",
       "[240 rows x 5 columns]"
      ]
     },
     "execution_count": 32,
     "metadata": {},
     "output_type": "execute_result"
    }
   ],
   "source": [
    "df"
   ]
  },
  {
   "cell_type": "code",
   "execution_count": 33,
   "metadata": {},
   "outputs": [
    {
     "name": "stdout",
     "output_type": "stream",
     "text": [
      "./old-logs/ghost-log/log4j-weighted_fuzzy_oversampling.txt\n",
      "./old-logs/ghost-log/jedit-weighted_fuzzy_oversampling.txt\n",
      "./old-logs/ghost-log/ivy-weighted_fuzzy_oversampling.txt\n",
      "./old-logs/ghost-log/lucene-weighted_fuzzy_oversampling.txt\n",
      "./old-logs/ghost-log/velocity-weighted_fuzzy_oversampling.txt\n",
      "./old-logs/ghost-log/camel-weighted_fuzzy_oversampling.txt\n",
      "./old-logs/ghost-log/poi-weighted_fuzzy_oversampling.txt\n",
      "./old-logs/ghost-log/xerces-weighted_fuzzy_oversampling.txt\n",
      "./old-logs/ghost-log/synapse-weighted_fuzzy_oversampling.txt\n",
      "./old-logs/ghost-log/xalan-weighted_fuzzy_oversampling.txt\n"
     ]
    }
   ],
   "source": [
    "# Mine tuning results\n",
    "res = []\n",
    "for file in glob.glob('./old-logs/ghost-log/*weighted_fuzzy_oversampling.txt'):\n",
    "    print(file)\n",
    "    interp = DODGEInterpreter(files=[file])\n",
    "    results = interp.interpret()\n",
    "    res.extend(results[file.split('/')[-1]][0])"
   ]
  },
  {
   "cell_type": "code",
   "execution_count": 34,
   "metadata": {},
   "outputs": [
    {
     "name": "stdout",
     "output_type": "stream",
     "text": [
      "./old-logs/ghost-log-wang/synapse-wfo_with_tuning.txt\n",
      "./old-logs/ghost-log-wang/poi2-wfo_with_tuning.txt\n",
      "./old-logs/ghost-log-wang/poi-wfo_with_tuning.txt\n",
      "./old-logs/ghost-log-wang/camel-wfo_with_tuning.txt\n",
      "./old-logs/ghost-log-wang/log4j-wfo_with_tuning.txt\n",
      "./old-logs/ghost-log-wang/xalan-wfo_with_tuning.txt\n",
      "./old-logs/ghost-log-wang/jedit2-wfo_with_tuning.txt\n",
      "./old-logs/ghost-log-wang/synapse2-wfo_with_tuning.txt\n",
      "./old-logs/ghost-log-wang/ivy-wfo_with_tuning.txt\n",
      "./old-logs/ghost-log-wang/camel2-wfo_with_tuning.txt\n",
      "./old-logs/ghost-log-wang/xerces-wfo_with_tuning.txt\n",
      "./old-logs/ghost-log-wang/lucene-wfo_with_tuning.txt\n",
      "./old-logs/ghost-log-wang/jedit-wfo_with_tuning.txt\n",
      "./old-logs/ghost-log-wang/lucene2-wfo_with_tuning.txt\n"
     ]
    }
   ],
   "source": [
    "# Mine tuning results\n",
    "for file in glob.glob('./old-logs/ghost-log-wang/*wfo_with_tuning.txt'):\n",
    "    print(file)\n",
    "    interp = DODGEInterpreter(files=[file])\n",
    "    results = interp.interpret()\n",
    "    res.extend(results[file.split('/')[-1]][0])"
   ]
  },
  {
   "cell_type": "code",
   "execution_count": 35,
   "metadata": {},
   "outputs": [
    {
     "data": {
      "text/plain": [
       "240"
      ]
     },
     "execution_count": 35,
     "metadata": {},
     "output_type": "execute_result"
    }
   ],
   "source": [
    "len(res)"
   ]
  },
  {
   "cell_type": "code",
   "execution_count": 36,
   "metadata": {},
   "outputs": [],
   "source": [
    "df['a+d+e'] = res"
   ]
  },
  {
   "cell_type": "code",
   "execution_count": 37,
   "metadata": {},
   "outputs": [
    {
     "name": "stdout",
     "output_type": "stream",
     "text": [
      "./old-logs/ghost-log/ivy-ghost.txt\n",
      "./old-logs/ghost-log/xalan-ghost.txt\n",
      "./old-logs/ghost-log/xerces-ghost.txt\n",
      "./old-logs/ghost-log/synapse-ghost.txt\n",
      "./old-logs/ghost-log/velocity-ghost.txt\n",
      "./old-logs/ghost-log/lucene-ghost.txt\n",
      "./old-logs/ghost-log/poi-ghost.txt\n",
      "./old-logs/ghost-log/camel-ghost.txt\n",
      "./old-logs/ghost-log/jedit-ghost.txt\n",
      "./old-logs/ghost-log/log4j-ghost.txt\n",
      "./old-logs/ghost-log-wang/ivy-ghost.txt\n",
      "./old-logs/ghost-log-wang/xalan-ghost.txt\n",
      "./old-logs/ghost-log-wang/xerces-ghost.txt\n",
      "./old-logs/ghost-log-wang/synapse2-ghost.txt\n",
      "./old-logs/ghost-log-wang/poi2-ghost.txt\n",
      "./old-logs/ghost-log-wang/synapse-ghost.txt\n",
      "./old-logs/ghost-log-wang/jedit2-ghost.txt\n",
      "./old-logs/ghost-log-wang/lucene2-ghost.txt\n",
      "./old-logs/ghost-log-wang/lucene-ghost.txt\n",
      "./old-logs/ghost-log-wang/poi-ghost.txt\n",
      "./old-logs/ghost-log-wang/camel-ghost.txt\n",
      "./old-logs/ghost-log-wang/jedit-ghost.txt\n",
      "./old-logs/ghost-log-wang/log4j-ghost.txt\n",
      "./old-logs/ghost-log-wang/camel2-ghost.txt\n"
     ]
    }
   ],
   "source": [
    "# Mine tuning results\n",
    "res = []\n",
    "for file in glob.glob('./old-logs/ghost-log*/*-ghost.txt'):\n",
    "    print(file)\n",
    "    interp = DODGEInterpreter(files=[file])\n",
    "    results = interp.interpret()\n",
    "    res.extend(results[file.split('/')[-1]][0])"
   ]
  },
  {
   "cell_type": "code",
   "execution_count": 38,
   "metadata": {},
   "outputs": [
    {
     "data": {
      "text/plain": [
       "240"
      ]
     },
     "execution_count": 38,
     "metadata": {},
     "output_type": "execute_result"
    }
   ],
   "source": [
    "len(res)"
   ]
  },
  {
   "cell_type": "code",
   "execution_count": 39,
   "metadata": {},
   "outputs": [],
   "source": [
    "df['a+c+d+e'] = res"
   ]
  },
  {
   "cell_type": "code",
   "execution_count": 40,
   "metadata": {},
   "outputs": [
    {
     "name": "stdout",
     "output_type": "stream",
     "text": [
      "./old-logs/ghost-log/camel-ghost-v2.txt\n",
      "./old-logs/ghost-log/velocity-ghost-v2.txt\n",
      "./old-logs/ghost-log/synapse-ghost-v2.txt\n",
      "./old-logs/ghost-log/log4j-ghost-v2.txt\n",
      "./old-logs/ghost-log/lucene-ghost-v2.txt\n",
      "./old-logs/ghost-log/poi-ghost-v2.txt\n",
      "./old-logs/ghost-log/xerces-ghost-v2.txt\n",
      "./old-logs/ghost-log/jedit-ghost-v2.txt\n",
      "./old-logs/ghost-log/ivy-ghost-v2.txt\n",
      "./old-logs/ghost-log/xalan-ghost-v2.txt\n",
      "./old-logs/ghost-log-wang/lucene2-ghost-v2.txt\n",
      "./old-logs/ghost-log-wang/camel2-ghost-v2.txt\n",
      "./old-logs/ghost-log-wang/camel-ghost-v2.txt\n",
      "./old-logs/ghost-log-wang/synapse-ghost-v2.txt\n",
      "./old-logs/ghost-log-wang/log4j-ghost-v2.txt\n",
      "./old-logs/ghost-log-wang/lucene-ghost-v2.txt\n",
      "./old-logs/ghost-log-wang/poi-ghost-v2.txt\n",
      "./old-logs/ghost-log-wang/xerces-ghost-v2.txt\n",
      "./old-logs/ghost-log-wang/synapse2-ghost-v2.txt\n",
      "./old-logs/ghost-log-wang/jedit2-ghost-v2.txt\n",
      "./old-logs/ghost-log-wang/jedit-ghost-v2.txt\n",
      "./old-logs/ghost-log-wang/poi2-ghost-v2.txt\n",
      "./old-logs/ghost-log-wang/ivy-ghost-v2.txt\n",
      "./old-logs/ghost-log-wang/xalan-ghost-v2.txt\n"
     ]
    }
   ],
   "source": [
    "# Mine tuning results\n",
    "res = []\n",
    "for file in glob.glob('./old-logs/ghost-log*/*-ghost-v2.txt'):\n",
    "    print(file)\n",
    "    interp = DODGEInterpreter(files=[file])\n",
    "    results = interp.interpret()\n",
    "    res.extend(results[file.split('/')[-1]][0])"
   ]
  },
  {
   "cell_type": "code",
   "execution_count": 41,
   "metadata": {},
   "outputs": [
    {
     "data": {
      "text/plain": [
       "240"
      ]
     },
     "execution_count": 41,
     "metadata": {},
     "output_type": "execute_result"
    }
   ],
   "source": [
    "len(res)"
   ]
  },
  {
   "cell_type": "code",
   "execution_count": 42,
   "metadata": {},
   "outputs": [],
   "source": [
    "df['a+c+2d+e'] = res"
   ]
  },
  {
   "cell_type": "code",
   "execution_count": 43,
   "metadata": {},
   "outputs": [
    {
     "data": {
      "text/html": [
       "<div>\n",
       "<style scoped>\n",
       "    .dataframe tbody tr th:only-of-type {\n",
       "        vertical-align: middle;\n",
       "    }\n",
       "\n",
       "    .dataframe tbody tr th {\n",
       "        vertical-align: top;\n",
       "    }\n",
       "\n",
       "    .dataframe thead th {\n",
       "        text-align: right;\n",
       "    }\n",
       "</style>\n",
       "<table border=\"1\" class=\"dataframe\">\n",
       "  <thead>\n",
       "    <tr style=\"text-align: right;\">\n",
       "      <th></th>\n",
       "      <th>a</th>\n",
       "      <th>a+b</th>\n",
       "      <th>a+d</th>\n",
       "      <th>a+b+e</th>\n",
       "      <th>a+e</th>\n",
       "      <th>a+d+e</th>\n",
       "      <th>a+c+d+e</th>\n",
       "      <th>a+c+2d+e</th>\n",
       "    </tr>\n",
       "  </thead>\n",
       "  <tbody>\n",
       "    <tr>\n",
       "      <th>0</th>\n",
       "      <td>0.0</td>\n",
       "      <td>0.000000</td>\n",
       "      <td>0.000000</td>\n",
       "      <td>0.0</td>\n",
       "      <td>0.0</td>\n",
       "      <td>0.959391</td>\n",
       "      <td>0.370861</td>\n",
       "      <td>0.892078</td>\n",
       "    </tr>\n",
       "    <tr>\n",
       "      <th>1</th>\n",
       "      <td>0.0</td>\n",
       "      <td>0.000000</td>\n",
       "      <td>0.000000</td>\n",
       "      <td>0.0</td>\n",
       "      <td>0.0</td>\n",
       "      <td>0.959391</td>\n",
       "      <td>0.300000</td>\n",
       "      <td>0.892078</td>\n",
       "    </tr>\n",
       "    <tr>\n",
       "      <th>2</th>\n",
       "      <td>0.0</td>\n",
       "      <td>0.000000</td>\n",
       "      <td>0.000000</td>\n",
       "      <td>0.0</td>\n",
       "      <td>0.0</td>\n",
       "      <td>0.959391</td>\n",
       "      <td>0.333333</td>\n",
       "      <td>0.892078</td>\n",
       "    </tr>\n",
       "    <tr>\n",
       "      <th>3</th>\n",
       "      <td>0.0</td>\n",
       "      <td>0.000000</td>\n",
       "      <td>0.000000</td>\n",
       "      <td>0.0</td>\n",
       "      <td>0.0</td>\n",
       "      <td>0.959391</td>\n",
       "      <td>0.205128</td>\n",
       "      <td>0.892078</td>\n",
       "    </tr>\n",
       "    <tr>\n",
       "      <th>4</th>\n",
       "      <td>0.0</td>\n",
       "      <td>0.000000</td>\n",
       "      <td>0.000000</td>\n",
       "      <td>0.0</td>\n",
       "      <td>0.0</td>\n",
       "      <td>0.959391</td>\n",
       "      <td>0.212766</td>\n",
       "      <td>0.892078</td>\n",
       "    </tr>\n",
       "    <tr>\n",
       "      <th>...</th>\n",
       "      <td>...</td>\n",
       "      <td>...</td>\n",
       "      <td>...</td>\n",
       "      <td>...</td>\n",
       "      <td>...</td>\n",
       "      <td>...</td>\n",
       "      <td>...</td>\n",
       "      <td>...</td>\n",
       "    </tr>\n",
       "    <tr>\n",
       "      <th>235</th>\n",
       "      <td>0.0</td>\n",
       "      <td>0.000000</td>\n",
       "      <td>0.272815</td>\n",
       "      <td>0.0</td>\n",
       "      <td>0.0</td>\n",
       "      <td>0.747698</td>\n",
       "      <td>0.326106</td>\n",
       "      <td>0.682527</td>\n",
       "    </tr>\n",
       "    <tr>\n",
       "      <th>236</th>\n",
       "      <td>0.0</td>\n",
       "      <td>0.017660</td>\n",
       "      <td>0.008859</td>\n",
       "      <td>0.0</td>\n",
       "      <td>0.0</td>\n",
       "      <td>0.747698</td>\n",
       "      <td>0.326106</td>\n",
       "      <td>0.682527</td>\n",
       "    </tr>\n",
       "    <tr>\n",
       "      <th>237</th>\n",
       "      <td>0.0</td>\n",
       "      <td>0.000000</td>\n",
       "      <td>0.182002</td>\n",
       "      <td>0.0</td>\n",
       "      <td>0.0</td>\n",
       "      <td>0.747698</td>\n",
       "      <td>0.326106</td>\n",
       "      <td>0.682527</td>\n",
       "    </tr>\n",
       "    <tr>\n",
       "      <th>238</th>\n",
       "      <td>0.0</td>\n",
       "      <td>0.000000</td>\n",
       "      <td>0.032859</td>\n",
       "      <td>0.0</td>\n",
       "      <td>0.0</td>\n",
       "      <td>0.747698</td>\n",
       "      <td>0.326106</td>\n",
       "      <td>0.682527</td>\n",
       "    </tr>\n",
       "    <tr>\n",
       "      <th>239</th>\n",
       "      <td>0.0</td>\n",
       "      <td>0.011062</td>\n",
       "      <td>0.282443</td>\n",
       "      <td>0.0</td>\n",
       "      <td>0.0</td>\n",
       "      <td>0.747698</td>\n",
       "      <td>0.326106</td>\n",
       "      <td>0.682527</td>\n",
       "    </tr>\n",
       "  </tbody>\n",
       "</table>\n",
       "<p>240 rows × 8 columns</p>\n",
       "</div>"
      ],
      "text/plain": [
       "       a       a+b       a+d  a+b+e  a+e     a+d+e   a+c+d+e  a+c+2d+e\n",
       "0    0.0  0.000000  0.000000    0.0  0.0  0.959391  0.370861  0.892078\n",
       "1    0.0  0.000000  0.000000    0.0  0.0  0.959391  0.300000  0.892078\n",
       "2    0.0  0.000000  0.000000    0.0  0.0  0.959391  0.333333  0.892078\n",
       "3    0.0  0.000000  0.000000    0.0  0.0  0.959391  0.205128  0.892078\n",
       "4    0.0  0.000000  0.000000    0.0  0.0  0.959391  0.212766  0.892078\n",
       "..   ...       ...       ...    ...  ...       ...       ...       ...\n",
       "235  0.0  0.000000  0.272815    0.0  0.0  0.747698  0.326106  0.682527\n",
       "236  0.0  0.017660  0.008859    0.0  0.0  0.747698  0.326106  0.682527\n",
       "237  0.0  0.000000  0.182002    0.0  0.0  0.747698  0.326106  0.682527\n",
       "238  0.0  0.000000  0.032859    0.0  0.0  0.747698  0.326106  0.682527\n",
       "239  0.0  0.011062  0.282443    0.0  0.0  0.747698  0.326106  0.682527\n",
       "\n",
       "[240 rows x 8 columns]"
      ]
     },
     "execution_count": 43,
     "metadata": {},
     "output_type": "execute_result"
    }
   ],
   "source": [
    "df"
   ]
  },
  {
   "cell_type": "code",
   "execution_count": 44,
   "metadata": {},
   "outputs": [],
   "source": [
    "with open('runs-smote-tuned.txt', 'r') as f:\n",
    "    lines = f.readlines()"
   ]
  },
  {
   "cell_type": "code",
   "execution_count": 45,
   "metadata": {},
   "outputs": [],
   "source": [
    "lines = [eval(re.sub('\\s+', ',', x[:-1].split(':')[1])[1:]) for x in lines if x.startswith('custom') and x[:-1].split(':')[1] != ' ']"
   ]
  },
  {
   "cell_type": "code",
   "execution_count": 46,
   "metadata": {},
   "outputs": [
    {
     "data": {
      "text/plain": [
       "23"
      ]
     },
     "execution_count": 46,
     "metadata": {},
     "output_type": "execute_result"
    }
   ],
   "source": [
    "len(lines)"
   ]
  },
  {
   "cell_type": "code",
   "execution_count": 47,
   "metadata": {},
   "outputs": [],
   "source": [
    "with open('runs-smote-tuned-2.txt', 'r') as f:\n",
    "    lines_2 = f.readlines()"
   ]
  },
  {
   "cell_type": "code",
   "execution_count": 48,
   "metadata": {},
   "outputs": [],
   "source": [
    "lines_2 = [eval(re.sub('\\s+', ',', x[:-1].split(':')[1])[1:]) for x in lines_2 if x.startswith('custom') and x[:-1].split(':')[1] != ' ']"
   ]
  },
  {
   "cell_type": "code",
   "execution_count": 49,
   "metadata": {},
   "outputs": [],
   "source": [
    "lines.extend(lines_2)"
   ]
  },
  {
   "cell_type": "code",
   "execution_count": 50,
   "metadata": {},
   "outputs": [
    {
     "data": {
      "text/plain": [
       "24"
      ]
     },
     "execution_count": 50,
     "metadata": {},
     "output_type": "execute_result"
    }
   ],
   "source": [
    "len(lines)"
   ]
  },
  {
   "cell_type": "code",
   "execution_count": 51,
   "metadata": {},
   "outputs": [],
   "source": [
    "lines = np.array(lines).reshape(240)"
   ]
  },
  {
   "cell_type": "code",
   "execution_count": 52,
   "metadata": {},
   "outputs": [],
   "source": [
    "df['a+c+e'] = lines"
   ]
  },
  {
   "cell_type": "code",
   "execution_count": 53,
   "metadata": {},
   "outputs": [
    {
     "data": {
      "text/html": [
       "<div>\n",
       "<style scoped>\n",
       "    .dataframe tbody tr th:only-of-type {\n",
       "        vertical-align: middle;\n",
       "    }\n",
       "\n",
       "    .dataframe tbody tr th {\n",
       "        vertical-align: top;\n",
       "    }\n",
       "\n",
       "    .dataframe thead th {\n",
       "        text-align: right;\n",
       "    }\n",
       "</style>\n",
       "<table border=\"1\" class=\"dataframe\">\n",
       "  <thead>\n",
       "    <tr style=\"text-align: right;\">\n",
       "      <th></th>\n",
       "      <th>a</th>\n",
       "      <th>a+b</th>\n",
       "      <th>a+d</th>\n",
       "      <th>a+b+e</th>\n",
       "      <th>a+e</th>\n",
       "      <th>a+d+e</th>\n",
       "      <th>a+c+d+e</th>\n",
       "      <th>a+c+2d+e</th>\n",
       "      <th>a+c+e</th>\n",
       "    </tr>\n",
       "  </thead>\n",
       "  <tbody>\n",
       "    <tr>\n",
       "      <th>0</th>\n",
       "      <td>0.0</td>\n",
       "      <td>0.000000</td>\n",
       "      <td>0.000000</td>\n",
       "      <td>0.0</td>\n",
       "      <td>0.0</td>\n",
       "      <td>0.959391</td>\n",
       "      <td>0.370861</td>\n",
       "      <td>0.892078</td>\n",
       "      <td>0.166667</td>\n",
       "    </tr>\n",
       "    <tr>\n",
       "      <th>1</th>\n",
       "      <td>0.0</td>\n",
       "      <td>0.000000</td>\n",
       "      <td>0.000000</td>\n",
       "      <td>0.0</td>\n",
       "      <td>0.0</td>\n",
       "      <td>0.959391</td>\n",
       "      <td>0.300000</td>\n",
       "      <td>0.892078</td>\n",
       "      <td>0.000000</td>\n",
       "    </tr>\n",
       "    <tr>\n",
       "      <th>2</th>\n",
       "      <td>0.0</td>\n",
       "      <td>0.000000</td>\n",
       "      <td>0.000000</td>\n",
       "      <td>0.0</td>\n",
       "      <td>0.0</td>\n",
       "      <td>0.959391</td>\n",
       "      <td>0.333333</td>\n",
       "      <td>0.892078</td>\n",
       "      <td>0.000000</td>\n",
       "    </tr>\n",
       "    <tr>\n",
       "      <th>3</th>\n",
       "      <td>0.0</td>\n",
       "      <td>0.000000</td>\n",
       "      <td>0.000000</td>\n",
       "      <td>0.0</td>\n",
       "      <td>0.0</td>\n",
       "      <td>0.959391</td>\n",
       "      <td>0.205128</td>\n",
       "      <td>0.892078</td>\n",
       "      <td>0.000000</td>\n",
       "    </tr>\n",
       "    <tr>\n",
       "      <th>4</th>\n",
       "      <td>0.0</td>\n",
       "      <td>0.000000</td>\n",
       "      <td>0.000000</td>\n",
       "      <td>0.0</td>\n",
       "      <td>0.0</td>\n",
       "      <td>0.959391</td>\n",
       "      <td>0.212766</td>\n",
       "      <td>0.892078</td>\n",
       "      <td>0.000000</td>\n",
       "    </tr>\n",
       "    <tr>\n",
       "      <th>...</th>\n",
       "      <td>...</td>\n",
       "      <td>...</td>\n",
       "      <td>...</td>\n",
       "      <td>...</td>\n",
       "      <td>...</td>\n",
       "      <td>...</td>\n",
       "      <td>...</td>\n",
       "      <td>...</td>\n",
       "      <td>...</td>\n",
       "    </tr>\n",
       "    <tr>\n",
       "      <th>235</th>\n",
       "      <td>0.0</td>\n",
       "      <td>0.000000</td>\n",
       "      <td>0.272815</td>\n",
       "      <td>0.0</td>\n",
       "      <td>0.0</td>\n",
       "      <td>0.747698</td>\n",
       "      <td>0.326106</td>\n",
       "      <td>0.682527</td>\n",
       "      <td>0.508143</td>\n",
       "    </tr>\n",
       "    <tr>\n",
       "      <th>236</th>\n",
       "      <td>0.0</td>\n",
       "      <td>0.017660</td>\n",
       "      <td>0.008859</td>\n",
       "      <td>0.0</td>\n",
       "      <td>0.0</td>\n",
       "      <td>0.747698</td>\n",
       "      <td>0.326106</td>\n",
       "      <td>0.682527</td>\n",
       "      <td>0.559322</td>\n",
       "    </tr>\n",
       "    <tr>\n",
       "      <th>237</th>\n",
       "      <td>0.0</td>\n",
       "      <td>0.000000</td>\n",
       "      <td>0.182002</td>\n",
       "      <td>0.0</td>\n",
       "      <td>0.0</td>\n",
       "      <td>0.747698</td>\n",
       "      <td>0.326106</td>\n",
       "      <td>0.682527</td>\n",
       "      <td>0.542636</td>\n",
       "    </tr>\n",
       "    <tr>\n",
       "      <th>238</th>\n",
       "      <td>0.0</td>\n",
       "      <td>0.000000</td>\n",
       "      <td>0.032859</td>\n",
       "      <td>0.0</td>\n",
       "      <td>0.0</td>\n",
       "      <td>0.747698</td>\n",
       "      <td>0.326106</td>\n",
       "      <td>0.682527</td>\n",
       "      <td>0.552000</td>\n",
       "    </tr>\n",
       "    <tr>\n",
       "      <th>239</th>\n",
       "      <td>0.0</td>\n",
       "      <td>0.011062</td>\n",
       "      <td>0.282443</td>\n",
       "      <td>0.0</td>\n",
       "      <td>0.0</td>\n",
       "      <td>0.747698</td>\n",
       "      <td>0.326106</td>\n",
       "      <td>0.682527</td>\n",
       "      <td>0.508143</td>\n",
       "    </tr>\n",
       "  </tbody>\n",
       "</table>\n",
       "<p>240 rows × 9 columns</p>\n",
       "</div>"
      ],
      "text/plain": [
       "       a       a+b       a+d  a+b+e  a+e     a+d+e   a+c+d+e  a+c+2d+e  \\\n",
       "0    0.0  0.000000  0.000000    0.0  0.0  0.959391  0.370861  0.892078   \n",
       "1    0.0  0.000000  0.000000    0.0  0.0  0.959391  0.300000  0.892078   \n",
       "2    0.0  0.000000  0.000000    0.0  0.0  0.959391  0.333333  0.892078   \n",
       "3    0.0  0.000000  0.000000    0.0  0.0  0.959391  0.205128  0.892078   \n",
       "4    0.0  0.000000  0.000000    0.0  0.0  0.959391  0.212766  0.892078   \n",
       "..   ...       ...       ...    ...  ...       ...       ...       ...   \n",
       "235  0.0  0.000000  0.272815    0.0  0.0  0.747698  0.326106  0.682527   \n",
       "236  0.0  0.017660  0.008859    0.0  0.0  0.747698  0.326106  0.682527   \n",
       "237  0.0  0.000000  0.182002    0.0  0.0  0.747698  0.326106  0.682527   \n",
       "238  0.0  0.000000  0.032859    0.0  0.0  0.747698  0.326106  0.682527   \n",
       "239  0.0  0.011062  0.282443    0.0  0.0  0.747698  0.326106  0.682527   \n",
       "\n",
       "        a+c+e  \n",
       "0    0.166667  \n",
       "1    0.000000  \n",
       "2    0.000000  \n",
       "3    0.000000  \n",
       "4    0.000000  \n",
       "..        ...  \n",
       "235  0.508143  \n",
       "236  0.559322  \n",
       "237  0.542636  \n",
       "238  0.552000  \n",
       "239  0.508143  \n",
       "\n",
       "[240 rows x 9 columns]"
      ]
     },
     "execution_count": 53,
     "metadata": {},
     "output_type": "execute_result"
    }
   ],
   "source": [
    "df"
   ]
  },
  {
   "cell_type": "code",
   "execution_count": 65,
   "metadata": {},
   "outputs": [],
   "source": [
    "with open('runs_acde_abce_abcd.txt', 'r') as f:\n",
    "    lines = f.readlines()"
   ]
  },
  {
   "cell_type": "code",
   "execution_count": 66,
   "metadata": {},
   "outputs": [],
   "source": [
    "lines = [eval(re.sub('\\s+', ',', x[:-1].split(':')[1])[1:]) for x in lines if x.startswith('acde') and x[:-1].split(':')[1] != ' ']"
   ]
  },
  {
   "cell_type": "code",
   "execution_count": 68,
   "metadata": {},
   "outputs": [],
   "source": [
    "lines = np.array(lines).reshape(240)"
   ]
  },
  {
   "cell_type": "code",
   "execution_count": 69,
   "metadata": {},
   "outputs": [],
   "source": [
    "df['a+c+d+e'] = lines"
   ]
  },
  {
   "cell_type": "code",
   "execution_count": 70,
   "metadata": {},
   "outputs": [],
   "source": [
    "with open('runs_acde_abce_abcd.txt', 'r') as f:\n",
    "    lines = f.readlines()"
   ]
  },
  {
   "cell_type": "code",
   "execution_count": 71,
   "metadata": {},
   "outputs": [],
   "source": [
    "lines = [eval(re.sub('\\s+', ',', x[:-1].split(':')[1])[1:]) for x in lines if x.startswith('abce') and x[:-1].split(':')[1] != ' ']"
   ]
  },
  {
   "cell_type": "code",
   "execution_count": 72,
   "metadata": {},
   "outputs": [],
   "source": [
    "lines = np.array(lines).reshape(240)"
   ]
  },
  {
   "cell_type": "code",
   "execution_count": 73,
   "metadata": {},
   "outputs": [],
   "source": [
    "df['a+b+c+e'] = lines"
   ]
  },
  {
   "cell_type": "code",
   "execution_count": 74,
   "metadata": {},
   "outputs": [],
   "source": [
    "with open('runs_acde_abce_abcd.txt', 'r') as f:\n",
    "    lines = f.readlines()"
   ]
  },
  {
   "cell_type": "code",
   "execution_count": 75,
   "metadata": {},
   "outputs": [],
   "source": [
    "lines = [eval(x.split(':')[1]) for x in lines if x.startswith('abcd')]"
   ]
  },
  {
   "cell_type": "code",
   "execution_count": 76,
   "metadata": {},
   "outputs": [],
   "source": [
    "lines = np.array(lines).reshape(240)"
   ]
  },
  {
   "cell_type": "code",
   "execution_count": 77,
   "metadata": {},
   "outputs": [],
   "source": [
    "df['a+b+c+d'] = lines"
   ]
  },
  {
   "cell_type": "code",
   "execution_count": 78,
   "metadata": {},
   "outputs": [],
   "source": [
    "df.sort_index(axis=1, inplace=True)"
   ]
  },
  {
   "cell_type": "code",
   "execution_count": 81,
   "metadata": {},
   "outputs": [
    {
     "data": {
      "image/png": "[encoded data removed]",
      "text/plain": [
       "<Figure size 1800x1200 with 1 Axes>"
      ]
     },
     "metadata": {},
     "output_type": "display_data"
    }
   ],
   "source": [
    "fig, ax = plt.subplots(dpi=300)\n",
    "df.plot(kind='box', vert=False, ax=ax);"
   ]
  },
  {
   "cell_type": "code",
   "execution_count": 82,
   "metadata": {},
   "outputs": [
    {
     "data": {
      "text/html": [
       "<div>\n",
       "<style scoped>\n",
       "    .dataframe tbody tr th:only-of-type {\n",
       "        vertical-align: middle;\n",
       "    }\n",
       "\n",
       "    .dataframe tbody tr th {\n",
       "        vertical-align: top;\n",
       "    }\n",
       "\n",
       "    .dataframe thead th {\n",
       "        text-align: right;\n",
       "    }\n",
       "</style>\n",
       "<table border=\"1\" class=\"dataframe\">\n",
       "  <thead>\n",
       "    <tr style=\"text-align: right;\">\n",
       "      <th></th>\n",
       "      <th>a</th>\n",
       "      <th>a+b</th>\n",
       "      <th>a+b+c+d</th>\n",
       "      <th>a+b+c+e</th>\n",
       "      <th>a+b+e</th>\n",
       "      <th>a+c+2d+e</th>\n",
       "      <th>a+c+d+e</th>\n",
       "      <th>a+c+e</th>\n",
       "      <th>a+d</th>\n",
       "      <th>a+d+e</th>\n",
       "      <th>a+e</th>\n",
       "    </tr>\n",
       "  </thead>\n",
       "  <tbody>\n",
       "    <tr>\n",
       "      <th>count</th>\n",
       "      <td>240.000000</td>\n",
       "      <td>240.000000</td>\n",
       "      <td>240.000000</td>\n",
       "      <td>240.000000</td>\n",
       "      <td>240.000000</td>\n",
       "      <td>240.000000</td>\n",
       "      <td>240.000000</td>\n",
       "      <td>240.000000</td>\n",
       "      <td>240.000000</td>\n",
       "      <td>240.000000</td>\n",
       "      <td>240.000000</td>\n",
       "    </tr>\n",
       "    <tr>\n",
       "      <th>mean</th>\n",
       "      <td>0.046294</td>\n",
       "      <td>0.038618</td>\n",
       "      <td>0.081197</td>\n",
       "      <td>0.192720</td>\n",
       "      <td>0.192235</td>\n",
       "      <td>0.702931</td>\n",
       "      <td>0.547657</td>\n",
       "      <td>0.191083</td>\n",
       "      <td>0.085881</td>\n",
       "      <td>0.550165</td>\n",
       "      <td>0.205048</td>\n",
       "    </tr>\n",
       "    <tr>\n",
       "      <th>std</th>\n",
       "      <td>0.151759</td>\n",
       "      <td>0.110903</td>\n",
       "      <td>0.151730</td>\n",
       "      <td>0.294748</td>\n",
       "      <td>0.297142</td>\n",
       "      <td>0.244666</td>\n",
       "      <td>0.246774</td>\n",
       "      <td>0.294992</td>\n",
       "      <td>0.154423</td>\n",
       "      <td>0.248010</td>\n",
       "      <td>0.298273</td>\n",
       "    </tr>\n",
       "    <tr>\n",
       "      <th>min</th>\n",
       "      <td>0.000000</td>\n",
       "      <td>0.000000</td>\n",
       "      <td>0.000000</td>\n",
       "      <td>0.000000</td>\n",
       "      <td>0.000000</td>\n",
       "      <td>0.023913</td>\n",
       "      <td>0.043738</td>\n",
       "      <td>0.000000</td>\n",
       "      <td>0.000000</td>\n",
       "      <td>0.043738</td>\n",
       "      <td>0.000000</td>\n",
       "    </tr>\n",
       "    <tr>\n",
       "      <th>25%</th>\n",
       "      <td>0.000000</td>\n",
       "      <td>0.000000</td>\n",
       "      <td>0.000000</td>\n",
       "      <td>0.000000</td>\n",
       "      <td>0.000000</td>\n",
       "      <td>0.574423</td>\n",
       "      <td>0.326106</td>\n",
       "      <td>0.000000</td>\n",
       "      <td>0.000000</td>\n",
       "      <td>0.326106</td>\n",
       "      <td>0.000000</td>\n",
       "    </tr>\n",
       "    <tr>\n",
       "      <th>50%</th>\n",
       "      <td>0.000000</td>\n",
       "      <td>0.000000</td>\n",
       "      <td>0.000000</td>\n",
       "      <td>0.000000</td>\n",
       "      <td>0.000000</td>\n",
       "      <td>0.796851</td>\n",
       "      <td>0.506849</td>\n",
       "      <td>0.000000</td>\n",
       "      <td>0.000000</td>\n",
       "      <td>0.511940</td>\n",
       "      <td>0.000000</td>\n",
       "    </tr>\n",
       "    <tr>\n",
       "      <th>75%</th>\n",
       "      <td>0.000000</td>\n",
       "      <td>0.000000</td>\n",
       "      <td>0.085454</td>\n",
       "      <td>0.304047</td>\n",
       "      <td>0.318428</td>\n",
       "      <td>0.892078</td>\n",
       "      <td>0.747698</td>\n",
       "      <td>0.292650</td>\n",
       "      <td>0.120793</td>\n",
       "      <td>0.755103</td>\n",
       "      <td>0.408520</td>\n",
       "    </tr>\n",
       "    <tr>\n",
       "      <th>max</th>\n",
       "      <td>0.777317</td>\n",
       "      <td>0.556164</td>\n",
       "      <td>0.845809</td>\n",
       "      <td>0.808725</td>\n",
       "      <td>0.784158</td>\n",
       "      <td>0.988695</td>\n",
       "      <td>0.993913</td>\n",
       "      <td>0.813187</td>\n",
       "      <td>0.682927</td>\n",
       "      <td>0.993913</td>\n",
       "      <td>0.798061</td>\n",
       "    </tr>\n",
       "  </tbody>\n",
       "</table>\n",
       "</div>"
      ],
      "text/plain": [
       "                a         a+b     a+b+c+d     a+b+c+e       a+b+e    a+c+2d+e  \\\n",
       "count  240.000000  240.000000  240.000000  240.000000  240.000000  240.000000   \n",
       "mean     0.046294    0.038618    0.081197    0.192720    0.192235    0.702931   \n",
       "std      0.151759    0.110903    0.151730    0.294748    0.297142    0.244666   \n",
       "min      0.000000    0.000000    0.000000    0.000000    0.000000    0.023913   \n",
       "25%      0.000000    0.000000    0.000000    0.000000    0.000000    0.574423   \n",
       "50%      0.000000    0.000000    0.000000    0.000000    0.000000    0.796851   \n",
       "75%      0.000000    0.000000    0.085454    0.304047    0.318428    0.892078   \n",
       "max      0.777317    0.556164    0.845809    0.808725    0.784158    0.988695   \n",
       "\n",
       "          a+c+d+e       a+c+e         a+d       a+d+e         a+e  \n",
       "count  240.000000  240.000000  240.000000  240.000000  240.000000  \n",
       "mean     0.547657    0.191083    0.085881    0.550165    0.205048  \n",
       "std      0.246774    0.294992    0.154423    0.248010    0.298273  \n",
       "min      0.043738    0.000000    0.000000    0.043738    0.000000  \n",
       "25%      0.326106    0.000000    0.000000    0.326106    0.000000  \n",
       "50%      0.506849    0.000000    0.000000    0.511940    0.000000  \n",
       "75%      0.747698    0.292650    0.120793    0.755103    0.408520  \n",
       "max      0.993913    0.813187    0.682927    0.993913    0.798061  "
      ]
     },
     "execution_count": 82,
     "metadata": {},
     "output_type": "execute_result"
    }
   ],
   "source": [
    "df.describe()"
   ]
  },
  {
   "cell_type": "markdown",
   "metadata": {},
   "source": [
    "## Class imbalance vs. F-1 score for vanilla method"
   ]
  },
  {
   "cell_type": "code",
   "execution_count": 2,
   "metadata": {},
   "outputs": [],
   "source": [
    "# For vanilla, plot perf vs imbalance\n",
    "with open('vanilla-runs.txt', 'r') as f:\n",
    "    lines = f.readlines()"
   ]
  },
  {
   "cell_type": "code",
   "execution_count": 3,
   "metadata": {},
   "outputs": [],
   "source": [
    "scores = [eval(x.split(':')[1]) for x in lines if x.startswith('vanilla')]\n",
    "scores = np.array(scores).T"
   ]
  },
  {
   "cell_type": "code",
   "execution_count": 4,
   "metadata": {},
   "outputs": [],
   "source": [
    "imb = [[float(y) for y in x[:-1].split('-')[1].split('|')] for x in lines if x.startswith('[Imbalance]')]"
   ]
  },
  {
   "cell_type": "code",
   "execution_count": 5,
   "metadata": {},
   "outputs": [],
   "source": [
    "imb = np.array(imb)"
   ]
  },
  {
   "cell_type": "code",
   "execution_count": 6,
   "metadata": {},
   "outputs": [
    {
     "data": {
      "text/plain": [
       "(24, 2)"
      ]
     },
     "execution_count": 6,
     "metadata": {},
     "output_type": "execute_result"
    }
   ],
   "source": [
    "imb.shape"
   ]
  },
  {
   "cell_type": "code",
   "execution_count": 7,
   "metadata": {},
   "outputs": [
    {
     "data": {
      "text/plain": [
       "(24,)"
      ]
     },
     "execution_count": 7,
     "metadata": {},
     "output_type": "execute_result"
    }
   ],
   "source": [
    "imb.T[0].shape"
   ]
  },
  {
   "cell_type": "code",
   "execution_count": 8,
   "metadata": {},
   "outputs": [],
   "source": [
    "x = []\n",
    "for i in range(10):\n",
    "    for j in range(24):\n",
    "        x.append([imb.T[0][j], imb.T[1][j], scores[i][j]])"
   ]
  },
  {
   "cell_type": "code",
   "execution_count": 9,
   "metadata": {},
   "outputs": [],
   "source": [
    "x = np.array(x)"
   ]
  },
  {
   "cell_type": "code",
   "execution_count": 10,
   "metadata": {},
   "outputs": [
    {
     "data": {
      "text/plain": [
       "(240, 3)"
      ]
     },
     "execution_count": 10,
     "metadata": {},
     "output_type": "execute_result"
    }
   ],
   "source": [
    "x.shape"
   ]
  },
  {
   "cell_type": "code",
   "execution_count": 11,
   "metadata": {},
   "outputs": [
    {
     "data": {
      "text/plain": [
       "['Solarize_Light2',\n",
       " '_classic_test_patch',\n",
       " 'bmh',\n",
       " 'classic',\n",
       " 'dark_background',\n",
       " 'fast',\n",
       " 'fivethirtyeight',\n",
       " 'ggplot',\n",
       " 'grayscale',\n",
       " 'seaborn',\n",
       " 'seaborn-bright',\n",
       " 'seaborn-colorblind',\n",
       " 'seaborn-dark',\n",
       " 'seaborn-dark-palette',\n",
       " 'seaborn-darkgrid',\n",
       " 'seaborn-deep',\n",
       " 'seaborn-muted',\n",
       " 'seaborn-notebook',\n",
       " 'seaborn-paper',\n",
       " 'seaborn-pastel',\n",
       " 'seaborn-poster',\n",
       " 'seaborn-talk',\n",
       " 'seaborn-ticks',\n",
       " 'seaborn-white',\n",
       " 'seaborn-whitegrid',\n",
       " 'tableau-colorblind10']"
      ]
     },
     "execution_count": 11,
     "metadata": {},
     "output_type": "execute_result"
    }
   ],
   "source": [
    "plt.style.available"
   ]
  },
  {
   "cell_type": "code",
   "execution_count": 30,
   "metadata": {},
   "outputs": [],
   "source": [
    "plt.rcParams['font.variant'] = 'normal'\n",
    "plt.rcParams['axes.labelcolor'] = 'black'"
   ]
  },
  {
   "cell_type": "code",
   "execution_count": 43,
   "metadata": {},
   "outputs": [
    {
     "data": {
      "text/plain": [
       "<matplotlib.colorbar.Colorbar at 0x11ee42970>"
      ]
     },
     "execution_count": 43,
     "metadata": {},
     "output_type": "execute_result"
    },
    {
     "data": {
      "image/png": "[encoded data removed]",
      "text/plain": [
       "<Figure size 960x660 with 2 Axes>"
      ]
     },
     "metadata": {},
     "output_type": "display_data"
    }
   ],
   "source": [
    "plt.style.use('seaborn-paper')\n",
    "plt.figure(dpi=150)\n",
    "plt.scatter(x.T[0], x.T[1]*100, vmin=0, vmax=1, c=x.T[2], cmap='RdBu', s=56, edgecolors='black');\n",
    "plt.xlabel('Training set: target class %')\n",
    "plt.ylabel('Test set: target class %')\n",
    "plt.colorbar()"
   ]
  },
  {
   "cell_type": "code",
   "execution_count": 116,
   "metadata": {},
   "outputs": [],
   "source": [
    "import scipy.stats as st"
   ]
  },
  {
   "cell_type": "code",
   "execution_count": 117,
   "metadata": {},
   "outputs": [
    {
     "data": {
      "text/plain": [
       "SpearmanrResult(correlation=0.4021470220688883, pvalue=9.617286426381009e-11)"
      ]
     },
     "execution_count": 117,
     "metadata": {},
     "output_type": "execute_result"
    }
   ],
   "source": [
    "st.spearmanr(x.T[0], x.T[2])"
   ]
  },
  {
   "cell_type": "code",
   "execution_count": 118,
   "metadata": {},
   "outputs": [
    {
     "data": {
      "text/plain": [
       "SpearmanrResult(correlation=0.005201160677321081, pvalue=0.9361132636517618)"
      ]
     },
     "execution_count": 118,
     "metadata": {},
     "output_type": "execute_result"
    }
   ],
   "source": [
    "st.spearmanr(x.T[1], x.T[2])"
   ]
  },
  {
   "cell_type": "code",
   "execution_count": 120,
   "metadata": {},
   "outputs": [
    {
     "data": {
      "text/plain": [
       "Text(0, 0.5, 'F1-score')"
      ]
     },
     "execution_count": 120,
     "metadata": {},
     "output_type": "execute_result"
    },
    {
     "data": {
      "image/png": "[encoded data removed]",
      "text/plain": [
       "<Figure size 900x600 with 1 Axes>"
      ]
     },
     "metadata": {},
     "output_type": "display_data"
    }
   ],
   "source": [
    "plt.figure(dpi=150)\n",
    "plt.scatter(x.T[0], x.T[1])\n",
    "plt.xlabel('Training set imbalance')\n",
    "plt.ylabel('F1-score')"
   ]
  },
  {
   "cell_type": "code",
   "execution_count": 123,
   "metadata": {},
   "outputs": [
    {
     "data": {
      "text/plain": [
       "array([[2.24e+01, 1.10e-01, 0.00e+00],\n",
       "       [5.32e+01, 6.00e-01, 0.00e+00],\n",
       "       [4.55e+01, 6.40e-01, 0.00e+00],\n",
       "       [2.01e+01, 3.40e-01, 0.00e+00],\n",
       "       [7.05e+01, 3.40e-01, 5.10e-01],\n",
       "       [2.06e+01, 1.90e-01, 0.00e+00],\n",
       "       [2.32e+01, 2.00e-02, 0.00e+00],\n",
       "       [2.91e+01, 9.20e-01, 0.00e+00],\n",
       "       [3.77e+01, 9.90e-01, 0.00e+00],\n",
       "       [1.57e+01, 7.40e-01, 0.00e+00],\n",
       "       [2.24e+01, 1.10e-01, 0.00e+00],\n",
       "       [5.32e+01, 6.00e-01, 0.00e+00],\n",
       "       [5.83e+01, 6.00e-01, 0.00e+00],\n",
       "       [4.55e+01, 6.40e-01, 0.00e+00],\n",
       "       [6.44e+01, 6.40e-01, 0.00e+00],\n",
       "       [2.01e+01, 3.40e-01, 0.00e+00],\n",
       "       [2.70e+01, 3.40e-01, 0.00e+00],\n",
       "       [2.06e+01, 1.90e-01, 0.00e+00],\n",
       "       [1.66e+01, 1.90e-01, 0.00e+00],\n",
       "       [1.57e+01, 7.40e-01, 0.00e+00],\n",
       "       [2.32e+01, 2.00e-02, 0.00e+00],\n",
       "       [2.45e+01, 2.50e-01, 0.00e+00],\n",
       "       [2.91e+01, 9.20e-01, 0.00e+00],\n",
       "       [3.77e+01, 9.90e-01, 0.00e+00],\n",
       "       [2.24e+01, 1.10e-01, 0.00e+00],\n",
       "       [5.32e+01, 6.00e-01, 0.00e+00],\n",
       "       [4.55e+01, 6.40e-01, 0.00e+00],\n",
       "       [2.01e+01, 3.40e-01, 0.00e+00],\n",
       "       [7.05e+01, 3.40e-01, 5.10e-01],\n",
       "       [2.06e+01, 1.90e-01, 0.00e+00],\n",
       "       [2.32e+01, 2.00e-02, 0.00e+00],\n",
       "       [2.91e+01, 9.20e-01, 0.00e+00],\n",
       "       [3.77e+01, 9.90e-01, 0.00e+00],\n",
       "       [1.57e+01, 7.40e-01, 0.00e+00],\n",
       "       [2.24e+01, 1.10e-01, 0.00e+00],\n",
       "       [5.32e+01, 6.00e-01, 0.00e+00],\n",
       "       [5.83e+01, 6.00e-01, 0.00e+00],\n",
       "       [4.55e+01, 6.40e-01, 0.00e+00],\n",
       "       [6.44e+01, 6.40e-01, 0.00e+00],\n",
       "       [2.01e+01, 3.40e-01, 0.00e+00],\n",
       "       [2.70e+01, 3.40e-01, 0.00e+00],\n",
       "       [2.06e+01, 1.90e-01, 0.00e+00],\n",
       "       [1.66e+01, 1.90e-01, 0.00e+00],\n",
       "       [1.57e+01, 7.40e-01, 0.00e+00],\n",
       "       [2.32e+01, 2.00e-02, 0.00e+00],\n",
       "       [2.45e+01, 2.50e-01, 0.00e+00],\n",
       "       [2.91e+01, 9.20e-01, 0.00e+00],\n",
       "       [3.77e+01, 9.90e-01, 0.00e+00],\n",
       "       [2.24e+01, 1.10e-01, 0.00e+00],\n",
       "       [5.32e+01, 6.00e-01, 0.00e+00],\n",
       "       [4.55e+01, 6.40e-01, 0.00e+00],\n",
       "       [2.01e+01, 3.40e-01, 0.00e+00],\n",
       "       [7.05e+01, 3.40e-01, 5.40e-01],\n",
       "       [2.06e+01, 1.90e-01, 0.00e+00],\n",
       "       [2.32e+01, 2.00e-02, 0.00e+00],\n",
       "       [2.91e+01, 9.20e-01, 0.00e+00],\n",
       "       [3.77e+01, 9.90e-01, 0.00e+00],\n",
       "       [1.57e+01, 7.40e-01, 0.00e+00],\n",
       "       [2.24e+01, 1.10e-01, 0.00e+00],\n",
       "       [5.32e+01, 6.00e-01, 0.00e+00],\n",
       "       [5.83e+01, 6.00e-01, 0.00e+00],\n",
       "       [4.55e+01, 6.40e-01, 0.00e+00],\n",
       "       [6.44e+01, 6.40e-01, 0.00e+00],\n",
       "       [2.01e+01, 3.40e-01, 0.00e+00],\n",
       "       [2.70e+01, 3.40e-01, 0.00e+00],\n",
       "       [2.06e+01, 1.90e-01, 0.00e+00],\n",
       "       [1.66e+01, 1.90e-01, 0.00e+00],\n",
       "       [1.57e+01, 7.40e-01, 0.00e+00],\n",
       "       [2.32e+01, 2.00e-02, 0.00e+00],\n",
       "       [2.45e+01, 2.50e-01, 0.00e+00],\n",
       "       [2.91e+01, 9.20e-01, 0.00e+00],\n",
       "       [3.77e+01, 9.90e-01, 0.00e+00],\n",
       "       [2.24e+01, 1.10e-01, 0.00e+00],\n",
       "       [5.32e+01, 6.00e-01, 0.00e+00],\n",
       "       [4.55e+01, 6.40e-01, 0.00e+00],\n",
       "       [2.01e+01, 3.40e-01, 0.00e+00],\n",
       "       [7.05e+01, 3.40e-01, 5.10e-01],\n",
       "       [2.06e+01, 1.90e-01, 0.00e+00],\n",
       "       [2.32e+01, 2.00e-02, 0.00e+00],\n",
       "       [2.91e+01, 9.20e-01, 0.00e+00],\n",
       "       [3.77e+01, 9.90e-01, 0.00e+00],\n",
       "       [1.57e+01, 7.40e-01, 0.00e+00],\n",
       "       [2.24e+01, 1.10e-01, 0.00e+00],\n",
       "       [5.32e+01, 6.00e-01, 0.00e+00],\n",
       "       [5.83e+01, 6.00e-01, 3.30e-01],\n",
       "       [4.55e+01, 6.40e-01, 0.00e+00],\n",
       "       [6.44e+01, 6.40e-01, 0.00e+00],\n",
       "       [2.01e+01, 3.40e-01, 0.00e+00],\n",
       "       [2.70e+01, 3.40e-01, 0.00e+00],\n",
       "       [2.06e+01, 1.90e-01, 0.00e+00],\n",
       "       [1.66e+01, 1.90e-01, 0.00e+00],\n",
       "       [1.57e+01, 7.40e-01, 0.00e+00],\n",
       "       [2.32e+01, 2.00e-02, 0.00e+00],\n",
       "       [2.45e+01, 2.50e-01, 0.00e+00],\n",
       "       [2.91e+01, 9.20e-01, 0.00e+00],\n",
       "       [3.77e+01, 9.90e-01, 0.00e+00],\n",
       "       [2.24e+01, 1.10e-01, 0.00e+00],\n",
       "       [5.32e+01, 6.00e-01, 0.00e+00],\n",
       "       [4.55e+01, 6.40e-01, 0.00e+00],\n",
       "       [2.01e+01, 3.40e-01, 0.00e+00],\n",
       "       [7.05e+01, 3.40e-01, 5.20e-01],\n",
       "       [2.06e+01, 1.90e-01, 0.00e+00],\n",
       "       [2.32e+01, 2.00e-02, 0.00e+00],\n",
       "       [2.91e+01, 9.20e-01, 0.00e+00],\n",
       "       [3.77e+01, 9.90e-01, 0.00e+00],\n",
       "       [1.57e+01, 7.40e-01, 0.00e+00],\n",
       "       [2.24e+01, 1.10e-01, 0.00e+00],\n",
       "       [5.32e+01, 6.00e-01, 0.00e+00],\n",
       "       [5.83e+01, 6.00e-01, 4.00e-02],\n",
       "       [4.55e+01, 6.40e-01, 0.00e+00],\n",
       "       [6.44e+01, 6.40e-01, 0.00e+00],\n",
       "       [2.01e+01, 3.40e-01, 0.00e+00],\n",
       "       [2.70e+01, 3.40e-01, 0.00e+00],\n",
       "       [2.06e+01, 1.90e-01, 0.00e+00],\n",
       "       [1.66e+01, 1.90e-01, 0.00e+00],\n",
       "       [1.57e+01, 7.40e-01, 0.00e+00],\n",
       "       [2.32e+01, 2.00e-02, 0.00e+00],\n",
       "       [2.45e+01, 2.50e-01, 0.00e+00],\n",
       "       [2.91e+01, 9.20e-01, 0.00e+00],\n",
       "       [3.77e+01, 9.90e-01, 0.00e+00],\n",
       "       [2.24e+01, 1.10e-01, 0.00e+00],\n",
       "       [5.32e+01, 6.00e-01, 0.00e+00],\n",
       "       [4.55e+01, 6.40e-01, 0.00e+00],\n",
       "       [2.01e+01, 3.40e-01, 0.00e+00],\n",
       "       [7.05e+01, 3.40e-01, 5.10e-01],\n",
       "       [2.06e+01, 1.90e-01, 0.00e+00],\n",
       "       [2.32e+01, 2.00e-02, 0.00e+00],\n",
       "       [2.91e+01, 9.20e-01, 0.00e+00],\n",
       "       [3.77e+01, 9.90e-01, 0.00e+00],\n",
       "       [1.57e+01, 7.40e-01, 0.00e+00],\n",
       "       [2.24e+01, 1.10e-01, 0.00e+00],\n",
       "       [5.32e+01, 6.00e-01, 0.00e+00],\n",
       "       [5.83e+01, 6.00e-01, 0.00e+00],\n",
       "       [4.55e+01, 6.40e-01, 0.00e+00],\n",
       "       [6.44e+01, 6.40e-01, 0.00e+00],\n",
       "       [2.01e+01, 3.40e-01, 0.00e+00],\n",
       "       [2.70e+01, 3.40e-01, 0.00e+00],\n",
       "       [2.06e+01, 1.90e-01, 0.00e+00],\n",
       "       [1.66e+01, 1.90e-01, 0.00e+00],\n",
       "       [1.57e+01, 7.40e-01, 0.00e+00],\n",
       "       [2.32e+01, 2.00e-02, 0.00e+00],\n",
       "       [2.45e+01, 2.50e-01, 0.00e+00],\n",
       "       [2.91e+01, 9.20e-01, 0.00e+00],\n",
       "       [3.77e+01, 9.90e-01, 0.00e+00],\n",
       "       [2.24e+01, 1.10e-01, 0.00e+00],\n",
       "       [5.32e+01, 6.00e-01, 0.00e+00],\n",
       "       [4.55e+01, 6.40e-01, 0.00e+00],\n",
       "       [2.01e+01, 3.40e-01, 0.00e+00],\n",
       "       [7.05e+01, 3.40e-01, 5.10e-01],\n",
       "       [2.06e+01, 1.90e-01, 0.00e+00],\n",
       "       [2.32e+01, 2.00e-02, 0.00e+00],\n",
       "       [2.91e+01, 9.20e-01, 0.00e+00],\n",
       "       [3.77e+01, 9.90e-01, 0.00e+00],\n",
       "       [1.57e+01, 7.40e-01, 0.00e+00],\n",
       "       [2.24e+01, 1.10e-01, 0.00e+00],\n",
       "       [5.32e+01, 6.00e-01, 0.00e+00],\n",
       "       [5.83e+01, 6.00e-01, 0.00e+00],\n",
       "       [4.55e+01, 6.40e-01, 0.00e+00],\n",
       "       [6.44e+01, 6.40e-01, 0.00e+00],\n",
       "       [2.01e+01, 3.40e-01, 0.00e+00],\n",
       "       [2.70e+01, 3.40e-01, 0.00e+00],\n",
       "       [2.06e+01, 1.90e-01, 0.00e+00],\n",
       "       [1.66e+01, 1.90e-01, 0.00e+00],\n",
       "       [1.57e+01, 7.40e-01, 0.00e+00],\n",
       "       [2.32e+01, 2.00e-02, 0.00e+00],\n",
       "       [2.45e+01, 2.50e-01, 0.00e+00],\n",
       "       [2.91e+01, 9.20e-01, 0.00e+00],\n",
       "       [3.77e+01, 9.90e-01, 0.00e+00],\n",
       "       [2.24e+01, 1.10e-01, 0.00e+00],\n",
       "       [5.32e+01, 6.00e-01, 0.00e+00],\n",
       "       [4.55e+01, 6.40e-01, 0.00e+00],\n",
       "       [2.01e+01, 3.40e-01, 0.00e+00],\n",
       "       [7.05e+01, 3.40e-01, 5.10e-01],\n",
       "       [2.06e+01, 1.90e-01, 0.00e+00],\n",
       "       [2.32e+01, 2.00e-02, 0.00e+00],\n",
       "       [2.91e+01, 9.20e-01, 0.00e+00],\n",
       "       [3.77e+01, 9.90e-01, 0.00e+00],\n",
       "       [1.57e+01, 7.40e-01, 0.00e+00],\n",
       "       [2.24e+01, 1.10e-01, 0.00e+00],\n",
       "       [5.32e+01, 6.00e-01, 3.00e-02],\n",
       "       [5.83e+01, 6.00e-01, 0.00e+00],\n",
       "       [4.55e+01, 6.40e-01, 0.00e+00],\n",
       "       [6.44e+01, 6.40e-01, 0.00e+00],\n",
       "       [2.01e+01, 3.40e-01, 0.00e+00],\n",
       "       [2.70e+01, 3.40e-01, 0.00e+00],\n",
       "       [2.06e+01, 1.90e-01, 0.00e+00],\n",
       "       [1.66e+01, 1.90e-01, 0.00e+00],\n",
       "       [1.57e+01, 7.40e-01, 0.00e+00],\n",
       "       [2.32e+01, 2.00e-02, 0.00e+00],\n",
       "       [2.45e+01, 2.50e-01, 0.00e+00],\n",
       "       [2.91e+01, 9.20e-01, 0.00e+00],\n",
       "       [3.77e+01, 9.90e-01, 0.00e+00],\n",
       "       [2.24e+01, 1.10e-01, 0.00e+00],\n",
       "       [5.32e+01, 6.00e-01, 0.00e+00],\n",
       "       [4.55e+01, 6.40e-01, 0.00e+00],\n",
       "       [2.01e+01, 3.40e-01, 0.00e+00],\n",
       "       [7.05e+01, 3.40e-01, 5.10e-01],\n",
       "       [2.06e+01, 1.90e-01, 0.00e+00],\n",
       "       [2.32e+01, 2.00e-02, 0.00e+00],\n",
       "       [2.91e+01, 9.20e-01, 0.00e+00],\n",
       "       [3.77e+01, 9.90e-01, 0.00e+00],\n",
       "       [1.57e+01, 7.40e-01, 0.00e+00],\n",
       "       [2.24e+01, 1.10e-01, 0.00e+00],\n",
       "       [5.32e+01, 6.00e-01, 0.00e+00],\n",
       "       [5.83e+01, 6.00e-01, 1.60e-01],\n",
       "       [4.55e+01, 6.40e-01, 0.00e+00],\n",
       "       [6.44e+01, 6.40e-01, 0.00e+00],\n",
       "       [2.01e+01, 3.40e-01, 0.00e+00],\n",
       "       [2.70e+01, 3.40e-01, 0.00e+00],\n",
       "       [2.06e+01, 1.90e-01, 0.00e+00],\n",
       "       [1.66e+01, 1.90e-01, 0.00e+00],\n",
       "       [1.57e+01, 7.40e-01, 0.00e+00],\n",
       "       [2.32e+01, 2.00e-02, 0.00e+00],\n",
       "       [2.45e+01, 2.50e-01, 0.00e+00],\n",
       "       [2.91e+01, 9.20e-01, 0.00e+00],\n",
       "       [3.77e+01, 9.90e-01, 0.00e+00],\n",
       "       [2.24e+01, 1.10e-01, 0.00e+00],\n",
       "       [5.32e+01, 6.00e-01, 0.00e+00],\n",
       "       [4.55e+01, 6.40e-01, 0.00e+00],\n",
       "       [2.01e+01, 3.40e-01, 0.00e+00],\n",
       "       [7.05e+01, 3.40e-01, 5.10e-01],\n",
       "       [2.06e+01, 1.90e-01, 0.00e+00],\n",
       "       [2.32e+01, 2.00e-02, 0.00e+00],\n",
       "       [2.91e+01, 9.20e-01, 0.00e+00],\n",
       "       [3.77e+01, 9.90e-01, 0.00e+00],\n",
       "       [1.57e+01, 7.40e-01, 0.00e+00],\n",
       "       [2.24e+01, 1.10e-01, 0.00e+00],\n",
       "       [5.32e+01, 6.00e-01, 0.00e+00],\n",
       "       [5.83e+01, 6.00e-01, 1.60e-01],\n",
       "       [4.55e+01, 6.40e-01, 0.00e+00],\n",
       "       [6.44e+01, 6.40e-01, 0.00e+00],\n",
       "       [2.01e+01, 3.40e-01, 0.00e+00],\n",
       "       [2.70e+01, 3.40e-01, 0.00e+00],\n",
       "       [2.06e+01, 1.90e-01, 0.00e+00],\n",
       "       [1.66e+01, 1.90e-01, 0.00e+00],\n",
       "       [1.57e+01, 7.40e-01, 0.00e+00],\n",
       "       [2.32e+01, 2.00e-02, 0.00e+00],\n",
       "       [2.45e+01, 2.50e-01, 0.00e+00],\n",
       "       [2.91e+01, 9.20e-01, 0.00e+00],\n",
       "       [3.77e+01, 9.90e-01, 0.00e+00]])"
      ]
     },
     "execution_count": 123,
     "metadata": {},
     "output_type": "execute_result"
    }
   ],
   "source": [
    "x.round(2)"
   ]
  },
  {
   "cell_type": "markdown",
   "metadata": {},
   "source": [
    "## Similar plot for final"
   ]
  },
  {
   "cell_type": "code",
   "execution_count": 16,
   "metadata": {},
   "outputs": [
    {
     "data": {
      "text/plain": [
       "[0.8920780711825488,\n",
       " 0.8920780711825488,\n",
       " 0.8920780711825488,\n",
       " 0.8920780711825488,\n",
       " 0.8920780711825488,\n",
       " 0.8920780711825488,\n",
       " 0.8920780711825488,\n",
       " 0.8920780711825488,\n",
       " 0.8920780711825488,\n",
       " 0.8920780711825488,\n",
       " 0.7947368421052632,\n",
       " 0.7947368421052632,\n",
       " 0.7947368421052632,\n",
       " 0.7947368421052632,\n",
       " 0.7947368421052632,\n",
       " 0.7947368421052632,\n",
       " 0.7947368421052632,\n",
       " 0.7947368421052632,\n",
       " 0.7947368421052632,\n",
       " 0.7947368421052632,\n",
       " 0.7981220657276995,\n",
       " 0.7981220657276995,\n",
       " 0.7981220657276995,\n",
       " 0.7981220657276995,\n",
       " 0.8037825059101654,\n",
       " 0.8018867924528301,\n",
       " 0.8018867924528301,\n",
       " 0.7981220657276995,\n",
       " 0.7981220657276995,\n",
       " 0.7981220657276995,\n",
       " 0.174496644295302,\n",
       " 0.1523809523809524,\n",
       " 0.14953271028037382,\n",
       " 0.14479638009049772,\n",
       " 0.14479638009049772,\n",
       " 0.14479638009049772,\n",
       " 0.14479638009049772,\n",
       " 0.14953271028037382,\n",
       " 0.14746543778801843,\n",
       " 0.14479638009049772,\n",
       " 0.5908096280087527,\n",
       " 0.5768421052631579,\n",
       " 0.5806451612903225,\n",
       " 0.5774946921443737,\n",
       " 0.5750528541226215,\n",
       " 0.576923076923077,\n",
       " 0.5744234800838575,\n",
       " 0.5757575757575757,\n",
       " 0.5744234800838575,\n",
       " 0.5744234800838575,\n",
       " 0.5339966832504146,\n",
       " 0.6015831134564644,\n",
       " 0.5339966832504146,\n",
       " 0.5821325648414986,\n",
       " 0.5339966832504146,\n",
       " 0.6234413965087282,\n",
       " 0.5339966832504146,\n",
       " 0.5339966832504146,\n",
       " 0.5339966832504146,\n",
       " 0.5339966832504146,\n",
       " 0.408660351826793,\n",
       " 0.408660351826793,\n",
       " 0.5228519195612431,\n",
       " 0.408660351826793,\n",
       " 0.408660351826793,\n",
       " 0.408660351826793,\n",
       " 0.408660351826793,\n",
       " 0.408660351826793,\n",
       " 0.408660351826793,\n",
       " 0.408660351826793,\n",
       " 0.9886947584789312,\n",
       " 0.9886947584789312,\n",
       " 0.9886947584789312,\n",
       " 0.9886947584789312,\n",
       " 0.9886947584789312,\n",
       " 0.9886947584789312,\n",
       " 0.9886947584789312,\n",
       " 0.9886947584789312,\n",
       " 0.9886947584789312,\n",
       " 0.9886947584789312,\n",
       " 0.9397590361445783,\n",
       " 0.9397590361445783,\n",
       " 0.9397590361445783,\n",
       " 0.9397590361445783,\n",
       " 0.9397590361445783,\n",
       " 0.9397590361445783,\n",
       " 0.9397590361445783,\n",
       " 0.9397590361445783,\n",
       " 0.9397590361445783,\n",
       " 0.9397590361445783,\n",
       " 0.025761124121779857,\n",
       " 0.02391304347826087,\n",
       " 0.02391304347826087,\n",
       " 0.02669902912621359,\n",
       " 0.02391304347826087,\n",
       " 0.02391304347826087,\n",
       " 0.02391304347826087,\n",
       " 0.02391304347826087,\n",
       " 0.025682182985553775,\n",
       " 0.02391304347826087,\n",
       " 0.6109785202863962,\n",
       " 0.5869565217391304,\n",
       " 0.6080402010050251,\n",
       " 0.5779036827195467,\n",
       " 0.5941043083900226,\n",
       " 0.5744234800838575,\n",
       " 0.596774193548387,\n",
       " 0.5744234800838575,\n",
       " 0.5760869565217392,\n",
       " 0.5744234800838575,\n",
       " 0.8920780711825488,\n",
       " 0.8920780711825488,\n",
       " 0.8920780711825488,\n",
       " 0.8920780711825488,\n",
       " 0.8920780711825488,\n",
       " 0.8920780711825488,\n",
       " 0.8920780711825488,\n",
       " 0.8920780711825488,\n",
       " 0.8920780711825488,\n",
       " 0.8920780711825488,\n",
       " 0.9093183239524704,\n",
       " 0.9093183239524704,\n",
       " 0.9093183239524704,\n",
       " 0.9093183239524704,\n",
       " 0.9093183239524704,\n",
       " 0.9093183239524704,\n",
       " 0.9093183239524704,\n",
       " 0.9093183239524704,\n",
       " 0.9093183239524704,\n",
       " 0.9093183239524704,\n",
       " 0.8437499999999999,\n",
       " 0.8437499999999999,\n",
       " 0.8437499999999999,\n",
       " 0.8437499999999999,\n",
       " 0.8437499999999999,\n",
       " 0.8437499999999999,\n",
       " 0.8437499999999999,\n",
       " 0.8437499999999999,\n",
       " 0.8437499999999999,\n",
       " 0.8437499999999999,\n",
       " 0.7955801104972376,\n",
       " 0.7955801104972376,\n",
       " 0.7955801104972376,\n",
       " 0.7955801104972376,\n",
       " 0.7955801104972376,\n",
       " 0.7955801104972376,\n",
       " 0.7955801104972376,\n",
       " 0.7955801104972376,\n",
       " 0.7955801104972376,\n",
       " 0.7955801104972376,\n",
       " 0.5885714285714285,\n",
       " 0.5885714285714285,\n",
       " 0.5885714285714285,\n",
       " 0.5885714285714285,\n",
       " 0.5885714285714285,\n",
       " 0.5885714285714285,\n",
       " 0.5885714285714285,\n",
       " 0.5885714285714285,\n",
       " 0.5885714285714285,\n",
       " 0.5885714285714285,\n",
       " 0.524904214559387,\n",
       " 0.524904214559387,\n",
       " 0.524904214559387,\n",
       " 0.524904214559387,\n",
       " 0.525911708253359,\n",
       " 0.524904214559387,\n",
       " 0.524904214559387,\n",
       " 0.524904214559387,\n",
       " 0.524904214559387,\n",
       " 0.524904214559387,\n",
       " 0.9175627240143369,\n",
       " 0.9175627240143369,\n",
       " 0.9175627240143369,\n",
       " 0.9175627240143369,\n",
       " 0.9175627240143369,\n",
       " 0.9175627240143369,\n",
       " 0.9175627240143369,\n",
       " 0.9175627240143369,\n",
       " 0.9175627240143369,\n",
       " 0.9175627240143369,\n",
       " 0.7981220657276995,\n",
       " 0.7981220657276995,\n",
       " 0.7981220657276995,\n",
       " 0.7981220657276995,\n",
       " 0.7981220657276995,\n",
       " 0.7981220657276995,\n",
       " 0.7981220657276995,\n",
       " 0.7981220657276995,\n",
       " 0.7981220657276995,\n",
       " 0.7981220657276995,\n",
       " 0.8550458715596331,\n",
       " 0.8550458715596331,\n",
       " 0.8550458715596331,\n",
       " 0.8550458715596331,\n",
       " 0.8550458715596331,\n",
       " 0.8550458715596331,\n",
       " 0.8550458715596331,\n",
       " 0.8550458715596331,\n",
       " 0.8550458715596331,\n",
       " 0.8550458715596331,\n",
       " 0.8603351955307262,\n",
       " 0.8603351955307262,\n",
       " 0.8603351955307262,\n",
       " 0.8603351955307262,\n",
       " 0.8603351955307262,\n",
       " 0.8603351955307262,\n",
       " 0.8603351955307262,\n",
       " 0.8603351955307262,\n",
       " 0.8603351955307262,\n",
       " 0.8603351955307262,\n",
       " 0.5339966832504146,\n",
       " 0.5339966832504146,\n",
       " 0.5339966832504146,\n",
       " 0.5339966832504146,\n",
       " 0.5339966832504146,\n",
       " 0.5339966832504146,\n",
       " 0.5339966832504146,\n",
       " 0.5339966832504146,\n",
       " 0.5339966832504146,\n",
       " 0.5339966832504146,\n",
       " 0.9397590361445783,\n",
       " 0.9397590361445783,\n",
       " 0.9397590361445783,\n",
       " 0.9397590361445783,\n",
       " 0.9397590361445783,\n",
       " 0.9397590361445783,\n",
       " 0.9397590361445783,\n",
       " 0.9397590361445783,\n",
       " 0.9397590361445783,\n",
       " 0.9397590361445783,\n",
       " 0.682526661197703,\n",
       " 0.682526661197703,\n",
       " 0.682526661197703,\n",
       " 0.682526661197703,\n",
       " 0.682526661197703,\n",
       " 0.682526661197703,\n",
       " 0.682526661197703,\n",
       " 0.682526661197703,\n",
       " 0.682526661197703,\n",
       " 0.682526661197703]"
      ]
     },
     "execution_count": 16,
     "metadata": {},
     "output_type": "execute_result"
    }
   ],
   "source": [
    "res"
   ]
  },
  {
   "cell_type": "code",
   "execution_count": 34,
   "metadata": {},
   "outputs": [],
   "source": [
    "imbalances = [(20.6, 19.48), (70.5, 34.06), (20.1, 33.59), (29.1, 92.15), (53.2, 59.7), (45.5, 63.57), (15.7, 74.3), (23.2, 2.23), (22.4, 11.36), (37.7, 98.78), (58.3, 59.7), (16.6, 19.48), (35.5, 16.6), (10.2, 27), (25.2, 33.9), (46.7, 58.3), (59.5, 64.4), (16.1, 15.2), (27, 33.59), (24.5, 25.35), (33.1, 24.5), (64.4, 63.57), (6.6, 11.36), (15.2, 48.19)]\n",
    "imbalances = [x * 10 for x in imbalances]"
   ]
  },
  {
   "cell_type": "code",
   "execution_count": 35,
   "metadata": {},
   "outputs": [],
   "source": [
    "imbalances = np.array(imbalances).reshape(240,2)"
   ]
  },
  {
   "cell_type": "code",
   "execution_count": 44,
   "metadata": {},
   "outputs": [
    {
     "data": {
      "text/plain": [
       "<matplotlib.colorbar.Colorbar at 0x11eee3490>"
      ]
     },
     "execution_count": 44,
     "metadata": {},
     "output_type": "execute_result"
    },
    {
     "data": {
      "image/png": "[encoded data removed]",
      "text/plain": [
       "<Figure size 960x660 with 2 Axes>"
      ]
     },
     "metadata": {},
     "output_type": "display_data"
    }
   ],
   "source": [
    "plt.style.use('seaborn-paper')\n",
    "plt.figure(dpi=150)\n",
    "plt.scatter(imbalances.T[0], imbalances.T[1], vmin=0, vmax=1, c=res, cmap='RdBu', s=56, edgecolors='black');\n",
    "plt.xlabel('Training set class imbalance')\n",
    "plt.ylabel('Test set class imbalance')\n",
    "plt.colorbar()"
   ]
  },
  {
   "cell_type": "code",
   "execution_count": 24,
   "metadata": {},
   "outputs": [],
   "source": [
    "import scipy.stats as st"
   ]
  },
  {
   "cell_type": "code",
   "execution_count": 25,
   "metadata": {},
   "outputs": [
    {
     "data": {
      "text/plain": [
       "SpearmanrResult(correlation=-0.5090019176700845, pvalue=3.1917322958973115e-17)"
      ]
     },
     "execution_count": 25,
     "metadata": {},
     "output_type": "execute_result"
    }
   ],
   "source": [
    "st.spearmanr(imbalances.T[0], res)"
   ]
  },
  {
   "cell_type": "code",
   "execution_count": 26,
   "metadata": {},
   "outputs": [
    {
     "data": {
      "text/plain": [
       "SpearmanrResult(correlation=-0.9972512193004688, pvalue=5.291058570181521e-271)"
      ]
     },
     "execution_count": 26,
     "metadata": {},
     "output_type": "execute_result"
    }
   ],
   "source": [
    "st.spearmanr(imbalances.T[1], res)"
   ]
  },
  {
   "cell_type": "code",
   "execution_count": null,
   "metadata": {},
   "outputs": [],
   "source": []
  }
 ],
 "metadata": {
  "kernelspec": {
   "display_name": "Python 3",
   "language": "python",
   "name": "python3"
  },
  "language_info": {
   "codemirror_mode": {
    "name": "ipython",
    "version": 3
   },
   "file_extension": ".py",
   "mimetype": "text/x-python",
   "name": "python",
   "nbconvert_exporter": "python",
   "pygments_lexer": "ipython3",
   "version": "3.8.6"
  }
 },
 "nbformat": 4,
 "nbformat_minor": 4
}
